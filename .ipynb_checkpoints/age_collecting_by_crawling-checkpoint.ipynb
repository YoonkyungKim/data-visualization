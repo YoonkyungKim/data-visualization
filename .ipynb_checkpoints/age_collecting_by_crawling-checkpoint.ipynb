{
 "cells": [
  {
   "cell_type": "code",
   "execution_count": 47,
   "metadata": {},
   "outputs": [],
   "source": [
    "from selenium import webdriver\n",
    "from time import sleep\n",
    "from selenium.common.exceptions import NoSuchElementException\n",
    "from selenium.webdriver.common.keys import Keys\n",
    "from selenium.webdriver.support.ui import WebDriverWait\n",
    "import pandas as pd"
   ]
  },
  {
   "cell_type": "code",
   "execution_count": 134,
   "metadata": {},
   "outputs": [],
   "source": [
    "artist_df = pd.read_csv('artists.csv')\n",
    "artists = artist_df['artists'].tolist()"
   ]
  },
  {
   "cell_type": "code",
   "execution_count": 39,
   "metadata": {},
   "outputs": [
    {
     "data": {
      "text/plain": [
       "161"
      ]
     },
     "execution_count": 39,
     "metadata": {},
     "output_type": "execute_result"
    }
   ],
   "source": [
    "len(artists)"
   ]
  },
  {
   "cell_type": "code",
   "execution_count": 24,
   "metadata": {},
   "outputs": [
    {
     "data": {
      "text/plain": [
       "['Drake',\n",
       " 'Ed Sheeran',\n",
       " 'Drake',\n",
       " 'Drake',\n",
       " 'Juice WRLD',\n",
       " 'Post Malone',\n",
       " 'Ella Mai',\n",
       " 'Dua Lipa',\n",
       " 'XXXTENTACION',\n",
       " 'Camila Cabello']"
      ]
     },
     "execution_count": 24,
     "metadata": {},
     "output_type": "execute_result"
    }
   ],
   "source": [
    "artists[:10]"
   ]
  },
  {
   "cell_type": "code",
   "execution_count": 40,
   "metadata": {},
   "outputs": [],
   "source": [
    "# Remove duplicates\n",
    "artists = list(dict.fromkeys(artists))"
   ]
  },
  {
   "cell_type": "code",
   "execution_count": 41,
   "metadata": {},
   "outputs": [
    {
     "data": {
      "text/plain": [
       "102"
      ]
     },
     "execution_count": 41,
     "metadata": {},
     "output_type": "execute_result"
    }
   ],
   "source": [
    "len(artists)"
   ]
  },
  {
   "cell_type": "markdown",
   "metadata": {},
   "source": [
    "# Crawling"
   ]
  },
  {
   "cell_type": "code",
   "execution_count": 98,
   "metadata": {},
   "outputs": [],
   "source": [
    "path=r'../shoppingmall/chromedriver'\n",
    "driver=webdriver.Chrome(path)\n",
    "driver.get(\"https://www.famousbirthdays.com/\")"
   ]
  },
  {
   "cell_type": "code",
   "execution_count": null,
   "metadata": {},
   "outputs": [],
   "source": [
    "b_dates = []"
   ]
  },
  {
   "cell_type": "code",
   "execution_count": 128,
   "metadata": {},
   "outputs": [],
   "source": [
    "for a in artists:\n",
    "    try:\n",
    "        search = driver.find_element_by_xpath(\"//*[@id='fb_search']/input\")\n",
    "        search.send_keys(Keys.CONTROL + \"a\")\n",
    "        search.clear()\n",
    "        \n",
    "        # Enter search term\n",
    "        search.send_keys(a);\n",
    "        \n",
    "        # Click search button\n",
    "        driver.find_element_by_xpath(\"//*[@id='fb_search']/button\").click()\n",
    "        \n",
    "        # Get birth date    \n",
    "        b_dates.append(a + \", \" + driver.find_element_by_class_name(\"stat\").text)\n",
    "        \n",
    "    except NoSuchElementException:\n",
    "        b_dates.append(a + \", Null\")"
   ]
  },
  {
   "cell_type": "code",
   "execution_count": 361,
   "metadata": {},
   "outputs": [
    {
     "data": {
      "text/plain": [
       "['Drake, October 24',\n",
       " 'Drake, BIRTHDAY\\nOctober 24, 1986',\n",
       " 'Ed Sheeran, BIRTHDAY\\nFebruary 17, 1991',\n",
       " 'Juice WRLD, BIRTHDAY\\nDecember 2, 1998',\n",
       " 'Post Malone, BIRTHDAY\\nJuly 4, 1995',\n",
       " 'Ella Mai, BIRTHDAY\\nNovember 3, 1994',\n",
       " 'Dua Lipa, BIRTHDAY\\nAugust 22, 1995',\n",
       " 'XXXTENTACION, BIRTHDAY\\nJanuary 23, 1998',\n",
       " 'Camila Cabello, BIRTHDAY\\nMarch 3, 1997',\n",
       " 'Ariana Grande, BIRTHDAY\\nJune 26, 1993']"
      ]
     },
     "execution_count": 361,
     "metadata": {},
     "output_type": "execute_result"
    }
   ],
   "source": [
    "b_dates[:10]"
   ]
  },
  {
   "cell_type": "markdown",
   "metadata": {},
   "source": [
    "# Preprocessing"
   ]
  },
  {
   "cell_type": "code",
   "execution_count": 403,
   "metadata": {},
   "outputs": [
    {
     "data": {
      "text/plain": [
       "['Drake, October 24',\n",
       " 'Drake, October 24, 1986',\n",
       " 'Ed Sheeran, February 17, 1991',\n",
       " 'Juice WRLD, December 2, 1998',\n",
       " 'Post Malone, July 4, 1995',\n",
       " 'Ella Mai, November 3, 1994',\n",
       " 'Dua Lipa, August 22, 1995',\n",
       " 'XXXTENTACION, January 23, 1998',\n",
       " 'Camila Cabello, March 3, 1997',\n",
       " 'Ariana Grande, June 26, 1993',\n",
       " 'Bazzi, August 28, 1997',\n",
       " 'Imagine Dragons,',\n",
       " 'Taylor Swift, December 13, 1989',\n",
       " 'Halsey, September 29, 1994',\n",
       " 'NF, March 30, 1991',\n",
       " 'Dan + Shay,',\n",
       " 'Portugal. The Man,',\n",
       " 'Lauv, HAPPY BIRTHDAY!\\nAugust 8, 1994',\n",
       " '5 Seconds Of Summer,',\n",
       " 'Selena Gomez, July 22, 1992',\n",
       " 'Travis Scott, April 30, 1991',\n",
       " 'Lil Pump, August 17, 2000',\n",
       " 'Shawn Mendes, August 8, 1998',\n",
       " 'Migos,',\n",
       " 'Sam Smith, May 19, 1992',\n",
       " 'Childish Gambino, September 25, 1983',\n",
       " 'Kane Brown, October 21, 1993',\n",
       " 'Cardi B, October 11, 1992',\n",
       " '6ix9ine, May 8, 1996',\n",
       " 'Rich The Kid, July 13, 1992',\n",
       " 'Maroon 5,',\n",
       " 'Demi Lovato, August 20, 1992',\n",
       " 'Charlie Puth, December 2, 1991',\n",
       " 'Khalid, Null',\n",
       " 'Jason Aldean, February 28, 1977',\n",
       " 'Thomas Rhett, March 30, 1990',\n",
       " 'The Weeknd, February 16, 1990',\n",
       " 'Florida Georgia Line,',\n",
       " 'Kenny Chesney, March 26, 1968',\n",
       " 'YoungBoy Never Broke Again, October 20, 1999',\n",
       " 'Daddy Yankee, February 3, 1977',\n",
       " 'Brett Young, March 23, 1981',\n",
       " 'Luke Combs, March 2, 1990',\n",
       " 'Bebe Rexha, August 30, 1989',\n",
       " 'Young Thug, August 16, 1991',\n",
       " '21 Savage, October 22, 1992',\n",
       " 'Ty Dolla $ign, April 13, 1985',\n",
       " 'Bad Bunny, March 10, 1994',\n",
       " 'J Balvin, May 7, 1985',\n",
       " 'Zedd, September 2, 1989',\n",
       " 'Maren Morris, April 10, 1990',\n",
       " 'Grey, Null',\n",
       " 'Bruno Mars, October 8, 1985',\n",
       " 'Normani, May 31, 1996',\n",
       " 'BlocBoy JB, May 19, 1996',\n",
       " 'Lil Baby, December 3, 1994',\n",
       " 'Marshmello, May 19, 1992',\n",
       " 'Anne-Marie, Null',\n",
       " 'Tyga, November 19, 1989',\n",
       " 'Offset, December 14, 1991',\n",
       " 'G-Eazy, May 24, 1989',\n",
       " 'A$AP Rocky, October 3, 1988',\n",
       " 'Nicki Minaj, December 8, 1982',\n",
       " 'Murda Beatz, February 11, 1994',\n",
       " 'Metro Boomin, September 16, 1993',\n",
       " 'Kendrick Lamar, June 17, 1987',\n",
       " 'SZA, November 8, 1990',\n",
       " 'Zacari, April 8, 1996',\n",
       " 'Lil Dicky, March 15, 1988',\n",
       " 'Chris Brown, May 5, 1989',\n",
       " 'YG, March 9, 1990',\n",
       " '2 Chainz, September 12, 1977',\n",
       " 'Big Sean, March 25, 1988',\n",
       " 'MAX, Null',\n",
       " 'gnash, June 16, 1993',\n",
       " 'Calvin Harris, January 17, 1984',\n",
       " 'Gucci Mane, February 12, 1980',\n",
       " 'DJ Khaled, November 26, 1975',\n",
       " 'Justin Bieber, March 1, 1994',\n",
       " 'Chance The Rapper, April 16, 1993',\n",
       " 'Quavo, April 2, 1991',\n",
       " 'A$AP Ferg, October 20, 1988',\n",
       " 'Miguel, Null',\n",
       " 'benny blanco, March 8, 1988',\n",
       " 'Jay Rock, March 31, 1986',\n",
       " 'Future, November 20, 1983',\n",
       " 'James Blake, December 28, 1979',\n",
       " 'Bastille,',\n",
       " 'Casper Magico, June 21, 1989',\n",
       " 'Nio Garcia, April 3, 1989',\n",
       " 'Darell, Null',\n",
       " 'Nicky Jam, March 17, 1981',\n",
       " 'Ozuna, Null',\n",
       " 'N*E*R*D, Null',\n",
       " 'Rihanna, February 20, 1988',\n",
       " 'Logic, January 22, 1990',\n",
       " 'Alessia Cara, July 11, 1996',\n",
       " 'Justin Timberlake, January 31, 1981',\n",
       " 'Chris Stapleton, April 15, 1978',\n",
       " 'Rae Sremmurd,',\n",
       " 'Juicy J, April 5, 1975',\n",
       " 'Willy William, April 14, 1981',\n",
       " 'Beyonce, September 4, 1981']"
      ]
     },
     "execution_count": 403,
     "metadata": {},
     "output_type": "execute_result"
    }
   ],
   "source": [
    "b_dates_preprocessing"
   ]
  },
  {
   "cell_type": "code",
   "execution_count": 165,
   "metadata": {},
   "outputs": [],
   "source": [
    "b_dates_preprocessing = [i.replace('BIRTHDAY\\n', '') for i in b_dates]\n",
    "b_dates_preprocessing = [i.strip() for i in b_dates_preprocessing]"
   ]
  },
  {
   "cell_type": "code",
   "execution_count": 400,
   "metadata": {},
   "outputs": [
    {
     "data": {
      "text/plain": [
       "['Drake',\n",
       " 'Drake',\n",
       " 'Ed Sheeran',\n",
       " 'Juice WRLD',\n",
       " 'Post Malone',\n",
       " 'Ella Mai',\n",
       " 'Dua Lipa',\n",
       " 'XXXTENTACION',\n",
       " 'Camila Cabello',\n",
       " 'Ariana Grande']"
      ]
     },
     "execution_count": 400,
     "metadata": {},
     "output_type": "execute_result"
    }
   ],
   "source": [
    "[i.split(', ', 1)[0] for i in b_dates_preprocessing][:10]"
   ]
  },
  {
   "cell_type": "code",
   "execution_count": 180,
   "metadata": {},
   "outputs": [],
   "source": [
    "b_dates_df_2.to_csv('b_dates_final.csv', index=False)"
   ]
  },
  {
   "cell_type": "code",
   "execution_count": 181,
   "metadata": {},
   "outputs": [],
   "source": [
    "b_df = pd.read_csv('b_dates_final.csv')"
   ]
  },
  {
   "cell_type": "code",
   "execution_count": 183,
   "metadata": {},
   "outputs": [
    {
     "data": {
      "text/html": [
       "<div>\n",
       "<style scoped>\n",
       "    .dataframe tbody tr th:only-of-type {\n",
       "        vertical-align: middle;\n",
       "    }\n",
       "\n",
       "    .dataframe tbody tr th {\n",
       "        vertical-align: top;\n",
       "    }\n",
       "\n",
       "    .dataframe thead th {\n",
       "        text-align: right;\n",
       "    }\n",
       "</style>\n",
       "<table border=\"1\" class=\"dataframe\">\n",
       "  <thead>\n",
       "    <tr style=\"text-align: right;\">\n",
       "      <th></th>\n",
       "      <th>artists</th>\n",
       "      <th>b_dates</th>\n",
       "    </tr>\n",
       "  </thead>\n",
       "  <tbody>\n",
       "    <tr>\n",
       "      <th>0</th>\n",
       "      <td>Drake</td>\n",
       "      <td>October 24, 1986</td>\n",
       "    </tr>\n",
       "    <tr>\n",
       "      <th>1</th>\n",
       "      <td>Ed Sheeran</td>\n",
       "      <td>February 17, 1991</td>\n",
       "    </tr>\n",
       "    <tr>\n",
       "      <th>2</th>\n",
       "      <td>Juice WRLD</td>\n",
       "      <td>December 2, 1998</td>\n",
       "    </tr>\n",
       "    <tr>\n",
       "      <th>3</th>\n",
       "      <td>Post Malone</td>\n",
       "      <td>July 4, 1995</td>\n",
       "    </tr>\n",
       "    <tr>\n",
       "      <th>4</th>\n",
       "      <td>Ella Mai</td>\n",
       "      <td>November 3, 1994</td>\n",
       "    </tr>\n",
       "    <tr>\n",
       "      <th>5</th>\n",
       "      <td>Dua Lipa</td>\n",
       "      <td>August 22, 1995</td>\n",
       "    </tr>\n",
       "    <tr>\n",
       "      <th>6</th>\n",
       "      <td>XXXTENTACION</td>\n",
       "      <td>January 23, 1998</td>\n",
       "    </tr>\n",
       "    <tr>\n",
       "      <th>7</th>\n",
       "      <td>Camila Cabello</td>\n",
       "      <td>March 3, 1997</td>\n",
       "    </tr>\n",
       "    <tr>\n",
       "      <th>8</th>\n",
       "      <td>Ariana Grande</td>\n",
       "      <td>June 26, 1993</td>\n",
       "    </tr>\n",
       "    <tr>\n",
       "      <th>9</th>\n",
       "      <td>Bazzi</td>\n",
       "      <td>August 28, 1997</td>\n",
       "    </tr>\n",
       "  </tbody>\n",
       "</table>\n",
       "</div>"
      ],
      "text/plain": [
       "          artists            b_dates\n",
       "0           Drake   October 24, 1986\n",
       "1      Ed Sheeran  February 17, 1991\n",
       "2      Juice WRLD   December 2, 1998\n",
       "3     Post Malone       July 4, 1995\n",
       "4        Ella Mai   November 3, 1994\n",
       "5        Dua Lipa    August 22, 1995\n",
       "6    XXXTENTACION   January 23, 1998\n",
       "7  Camila Cabello      March 3, 1997\n",
       "8   Ariana Grande      June 26, 1993\n",
       "9           Bazzi    August 28, 1997"
      ]
     },
     "execution_count": 183,
     "metadata": {},
     "output_type": "execute_result"
    }
   ],
   "source": [
    "b_df.head(10)"
   ]
  },
  {
   "cell_type": "code",
   "execution_count": 352,
   "metadata": {},
   "outputs": [],
   "source": [
    "b_dates_only_dates = b_df['b_dates'].tolist()"
   ]
  },
  {
   "cell_type": "code",
   "execution_count": 354,
   "metadata": {},
   "outputs": [],
   "source": [
    "from datetime import datetime\n",
    "def age(my_date):\n",
    "    b_date = datetime.strptime(my_date, '%B %d, %Y')\n",
    "    return \"Age : %d\" % ((datetime.today() - b_date).days/365)"
   ]
  },
  {
   "cell_type": "code",
   "execution_count": 355,
   "metadata": {},
   "outputs": [],
   "source": [
    "ages = list()\n",
    "for b in b_dates_only_dates:\n",
    "    try:\n",
    "        ages.append(age(b))\n",
    "    except ValueError:\n",
    "        ages.append(\"null\")"
   ]
  },
  {
   "cell_type": "code",
   "execution_count": 356,
   "metadata": {},
   "outputs": [],
   "source": [
    "ages = [i.replace('Age : ', '') for i in ages]"
   ]
  },
  {
   "cell_type": "code",
   "execution_count": 401,
   "metadata": {},
   "outputs": [
    {
     "data": {
      "text/plain": [
       "['32', '28', '20', '24', '24', '23', '21', '22', '26', '21']"
      ]
     },
     "execution_count": 401,
     "metadata": {},
     "output_type": "execute_result"
    }
   ],
   "source": [
    "ages[:10]"
   ]
  },
  {
   "cell_type": "code",
   "execution_count": 220,
   "metadata": {
    "scrolled": true
   },
   "outputs": [
    {
     "name": "stdout",
     "output_type": "stream",
     "text": [
      "Age : 32\n"
     ]
    }
   ],
   "source": [
    "age(\"October 24, 1986\")"
   ]
  },
  {
   "cell_type": "code",
   "execution_count": 159,
   "metadata": {},
   "outputs": [],
   "source": [
    "b_dates_only_dates = [i.replace('BIRTHDAY\\n', '') for i in b_dates_only_dates]"
   ]
  },
  {
   "cell_type": "code",
   "execution_count": 161,
   "metadata": {},
   "outputs": [],
   "source": [
    "b_dates_only_dates = [i.strip() for i in b_dates_only_dates]"
   ]
  },
  {
   "cell_type": "code",
   "execution_count": 175,
   "metadata": {},
   "outputs": [],
   "source": [
    "b_dates_only_dates.remove('October 24')"
   ]
  },
  {
   "cell_type": "code",
   "execution_count": 152,
   "metadata": {},
   "outputs": [],
   "source": [
    "b_dates_df.to_csv('b_dates.csv', index=False)"
   ]
  },
  {
   "cell_type": "code",
   "execution_count": 154,
   "metadata": {},
   "outputs": [],
   "source": [
    "# b_dates_df = pd.read_csv('b_dates.csv')"
   ]
  },
  {
   "cell_type": "code",
   "execution_count": null,
   "metadata": {},
   "outputs": [],
   "source": [
    "# artists = artist_df['artists'].tolist()"
   ]
  },
  {
   "cell_type": "code",
   "execution_count": 168,
   "metadata": {},
   "outputs": [
    {
     "data": {
      "text/plain": [
       "102"
      ]
     },
     "execution_count": 168,
     "metadata": {},
     "output_type": "execute_result"
    }
   ],
   "source": [
    "# len(artists)"
   ]
  },
  {
   "cell_type": "code",
   "execution_count": 169,
   "metadata": {},
   "outputs": [
    {
     "data": {
      "text/plain": [
       "['Drake',\n",
       " 'Ed Sheeran',\n",
       " 'Juice WRLD',\n",
       " 'Post Malone',\n",
       " 'Ella Mai',\n",
       " 'Dua Lipa',\n",
       " 'XXXTENTACION',\n",
       " 'Camila Cabello',\n",
       " 'Ariana Grande',\n",
       " 'Bazzi']"
      ]
     },
     "execution_count": 169,
     "metadata": {},
     "output_type": "execute_result"
    }
   ],
   "source": [
    "# artists[:10]"
   ]
  },
  {
   "cell_type": "code",
   "execution_count": 177,
   "metadata": {},
   "outputs": [
    {
     "data": {
      "text/plain": [
       "102"
      ]
     },
     "execution_count": 177,
     "metadata": {},
     "output_type": "execute_result"
    }
   ],
   "source": [
    "len(b_dates_only_dates)"
   ]
  },
  {
   "cell_type": "code",
   "execution_count": 398,
   "metadata": {},
   "outputs": [
    {
     "data": {
      "text/plain": [
       "['October 24, 1986',\n",
       " 'February 17, 1991',\n",
       " 'December 2, 1998',\n",
       " 'July 4, 1995',\n",
       " 'November 3, 1994',\n",
       " 'August 22, 1995',\n",
       " 'January 23, 1998',\n",
       " 'March 3, 1997',\n",
       " 'June 26, 1993',\n",
       " 'August 28, 1997']"
      ]
     },
     "execution_count": 398,
     "metadata": {},
     "output_type": "execute_result"
    }
   ],
   "source": [
    "b_dates_only_dates[:10]"
   ]
  },
  {
   "cell_type": "code",
   "execution_count": 164,
   "metadata": {},
   "outputs": [],
   "source": [
    "b_dates_copy = b_dates.copy()"
   ]
  },
  {
   "cell_type": "code",
   "execution_count": 312,
   "metadata": {},
   "outputs": [],
   "source": [
    "# b_dates_df_ages = pd.read_csv('b_dates.csv')"
   ]
  },
  {
   "cell_type": "code",
   "execution_count": 368,
   "metadata": {},
   "outputs": [
    {
     "data": {
      "text/html": [
       "<div>\n",
       "<style scoped>\n",
       "    .dataframe tbody tr th:only-of-type {\n",
       "        vertical-align: middle;\n",
       "    }\n",
       "\n",
       "    .dataframe tbody tr th {\n",
       "        vertical-align: top;\n",
       "    }\n",
       "\n",
       "    .dataframe thead th {\n",
       "        text-align: right;\n",
       "    }\n",
       "</style>\n",
       "<table border=\"1\" class=\"dataframe\">\n",
       "  <thead>\n",
       "    <tr style=\"text-align: right;\">\n",
       "      <th></th>\n",
       "      <th>artists</th>\n",
       "      <th>b_dates</th>\n",
       "      <th>ages</th>\n",
       "    </tr>\n",
       "  </thead>\n",
       "  <tbody>\n",
       "    <tr>\n",
       "      <th>0</th>\n",
       "      <td>Drake</td>\n",
       "      <td>October 24, 1986</td>\n",
       "      <td>32</td>\n",
       "    </tr>\n",
       "    <tr>\n",
       "      <th>1</th>\n",
       "      <td>Ed Sheeran</td>\n",
       "      <td>February 17, 1991</td>\n",
       "      <td>28</td>\n",
       "    </tr>\n",
       "    <tr>\n",
       "      <th>2</th>\n",
       "      <td>Juice WRLD</td>\n",
       "      <td>December 2, 1998</td>\n",
       "      <td>20</td>\n",
       "    </tr>\n",
       "    <tr>\n",
       "      <th>3</th>\n",
       "      <td>Post Malone</td>\n",
       "      <td>July 4, 1995</td>\n",
       "      <td>24</td>\n",
       "    </tr>\n",
       "    <tr>\n",
       "      <th>4</th>\n",
       "      <td>Ella Mai</td>\n",
       "      <td>November 3, 1994</td>\n",
       "      <td>24</td>\n",
       "    </tr>\n",
       "  </tbody>\n",
       "</table>\n",
       "</div>"
      ],
      "text/plain": [
       "       artists            b_dates ages\n",
       "0        Drake   October 24, 1986   32\n",
       "1   Ed Sheeran  February 17, 1991   28\n",
       "2   Juice WRLD   December 2, 1998   20\n",
       "3  Post Malone       July 4, 1995   24\n",
       "4     Ella Mai   November 3, 1994   24"
      ]
     },
     "execution_count": 368,
     "metadata": {},
     "output_type": "execute_result"
    }
   ],
   "source": [
    "b_dates_df_ages.head()"
   ]
  },
  {
   "cell_type": "code",
   "execution_count": 399,
   "metadata": {},
   "outputs": [
    {
     "data": {
      "text/plain": [
       "['Drake, October 24',\n",
       " 'Drake, October 24, 1986',\n",
       " 'Ed Sheeran, February 17, 1991',\n",
       " 'Juice WRLD, December 2, 1998',\n",
       " 'Post Malone, July 4, 1995',\n",
       " 'Ella Mai, November 3, 1994',\n",
       " 'Dua Lipa, August 22, 1995',\n",
       " 'XXXTENTACION, January 23, 1998',\n",
       " 'Camila Cabello, March 3, 1997',\n",
       " 'Ariana Grande, June 26, 1993']"
      ]
     },
     "execution_count": 399,
     "metadata": {},
     "output_type": "execute_result"
    }
   ],
   "source": [
    "b_dates_preprocessing[:10]"
   ]
  },
  {
   "cell_type": "code",
   "execution_count": 369,
   "metadata": {},
   "outputs": [
    {
     "data": {
      "text/plain": [
       "artists    object\n",
       "b_dates    object\n",
       "ages       object\n",
       "dtype: object"
      ]
     },
     "execution_count": 369,
     "metadata": {},
     "output_type": "execute_result"
    }
   ],
   "source": [
    "b_dates_df_ages.dtypes"
   ]
  },
  {
   "cell_type": "code",
   "execution_count": 275,
   "metadata": {},
   "outputs": [],
   "source": [
    "b_dates_df_ages['ages'] = b_dates_df_ages['ages'].astype(float)"
   ]
  },
  {
   "cell_type": "code",
   "execution_count": 315,
   "metadata": {},
   "outputs": [],
   "source": [
    "b_dates_df_ages['ages'] = b_dates_df_ages['ages'].astype(str)"
   ]
  },
  {
   "cell_type": "code",
   "execution_count": 337,
   "metadata": {},
   "outputs": [],
   "source": [
    "b_dates_df_ages['b_dates'] = b_dates_df_ages['b_dates'].astype(str)"
   ]
  },
  {
   "cell_type": "code",
   "execution_count": 342,
   "metadata": {},
   "outputs": [
    {
     "data": {
      "text/html": [
       "<div>\n",
       "<style scoped>\n",
       "    .dataframe tbody tr th:only-of-type {\n",
       "        vertical-align: middle;\n",
       "    }\n",
       "\n",
       "    .dataframe tbody tr th {\n",
       "        vertical-align: top;\n",
       "    }\n",
       "\n",
       "    .dataframe thead th {\n",
       "        text-align: right;\n",
       "    }\n",
       "</style>\n",
       "<table border=\"1\" class=\"dataframe\">\n",
       "  <thead>\n",
       "    <tr style=\"text-align: right;\">\n",
       "      <th></th>\n",
       "      <th>artists</th>\n",
       "      <th>b_dates</th>\n",
       "      <th>ages</th>\n",
       "    </tr>\n",
       "  </thead>\n",
       "  <tbody>\n",
       "    <tr>\n",
       "      <th>10</th>\n",
       "      <td>Imagine Dragons</td>\n",
       "      <td>nan</td>\n",
       "      <td>nan</td>\n",
       "    </tr>\n",
       "    <tr>\n",
       "      <th>14</th>\n",
       "      <td>Dan + Shay</td>\n",
       "      <td>nan</td>\n",
       "      <td>nan</td>\n",
       "    </tr>\n",
       "    <tr>\n",
       "      <th>15</th>\n",
       "      <td>Portugal. The Man</td>\n",
       "      <td>nan</td>\n",
       "      <td>nan</td>\n",
       "    </tr>\n",
       "    <tr>\n",
       "      <th>16</th>\n",
       "      <td>Lauv</td>\n",
       "      <td>August 8, 1994</td>\n",
       "      <td>nan</td>\n",
       "    </tr>\n",
       "    <tr>\n",
       "      <th>17</th>\n",
       "      <td>5 Seconds Of Summer</td>\n",
       "      <td>nan</td>\n",
       "      <td>nan</td>\n",
       "    </tr>\n",
       "    <tr>\n",
       "      <th>22</th>\n",
       "      <td>Migos</td>\n",
       "      <td>nan</td>\n",
       "      <td>nan</td>\n",
       "    </tr>\n",
       "    <tr>\n",
       "      <th>29</th>\n",
       "      <td>Maroon 5</td>\n",
       "      <td>nan</td>\n",
       "      <td>nan</td>\n",
       "    </tr>\n",
       "    <tr>\n",
       "      <th>32</th>\n",
       "      <td>Khalid</td>\n",
       "      <td>February 11, 1998</td>\n",
       "      <td>nan</td>\n",
       "    </tr>\n",
       "    <tr>\n",
       "      <th>36</th>\n",
       "      <td>Florida Georgia Line</td>\n",
       "      <td>nan</td>\n",
       "      <td>nan</td>\n",
       "    </tr>\n",
       "    <tr>\n",
       "      <th>50</th>\n",
       "      <td>Grey</td>\n",
       "      <td>Null</td>\n",
       "      <td>nan</td>\n",
       "    </tr>\n",
       "    <tr>\n",
       "      <th>56</th>\n",
       "      <td>Anne-Marie</td>\n",
       "      <td>April 7, 1991</td>\n",
       "      <td>nan</td>\n",
       "    </tr>\n",
       "    <tr>\n",
       "      <th>72</th>\n",
       "      <td>MAX</td>\n",
       "      <td>Null</td>\n",
       "      <td>nan</td>\n",
       "    </tr>\n",
       "    <tr>\n",
       "      <th>81</th>\n",
       "      <td>Miguel</td>\n",
       "      <td>October 23, 1985</td>\n",
       "      <td>nan</td>\n",
       "    </tr>\n",
       "    <tr>\n",
       "      <th>86</th>\n",
       "      <td>Bastille</td>\n",
       "      <td>nan</td>\n",
       "      <td>nan</td>\n",
       "    </tr>\n",
       "    <tr>\n",
       "      <th>89</th>\n",
       "      <td>Darell</td>\n",
       "      <td>January 5, 1990</td>\n",
       "      <td>nan</td>\n",
       "    </tr>\n",
       "    <tr>\n",
       "      <th>91</th>\n",
       "      <td>Ozuna</td>\n",
       "      <td>March 13, 1992</td>\n",
       "      <td>nan</td>\n",
       "    </tr>\n",
       "    <tr>\n",
       "      <th>92</th>\n",
       "      <td>N*E*R*D</td>\n",
       "      <td>Null</td>\n",
       "      <td>nan</td>\n",
       "    </tr>\n",
       "    <tr>\n",
       "      <th>98</th>\n",
       "      <td>Rae Sremmurd</td>\n",
       "      <td>nan</td>\n",
       "      <td>nan</td>\n",
       "    </tr>\n",
       "  </tbody>\n",
       "</table>\n",
       "</div>"
      ],
      "text/plain": [
       "                 artists            b_dates ages\n",
       "10       Imagine Dragons                nan  nan\n",
       "14            Dan + Shay                nan  nan\n",
       "15     Portugal. The Man                nan  nan\n",
       "16                  Lauv     August 8, 1994  nan\n",
       "17   5 Seconds Of Summer                nan  nan\n",
       "22                 Migos                nan  nan\n",
       "29              Maroon 5                nan  nan\n",
       "32                Khalid  February 11, 1998  nan\n",
       "36  Florida Georgia Line                nan  nan\n",
       "50                  Grey               Null  nan\n",
       "56            Anne-Marie      April 7, 1991  nan\n",
       "72                   MAX               Null  nan\n",
       "81                Miguel   October 23, 1985  nan\n",
       "86              Bastille                nan  nan\n",
       "89                Darell    January 5, 1990  nan\n",
       "91                 Ozuna     March 13, 1992  nan\n",
       "92               N*E*R*D               Null  nan\n",
       "98          Rae Sremmurd                nan  nan"
      ]
     },
     "execution_count": 342,
     "metadata": {},
     "output_type": "execute_result"
    }
   ],
   "source": [
    "b_dates_df_ages[b_dates_df_ages.ages == 'nan']"
   ]
  },
  {
   "cell_type": "code",
   "execution_count": 324,
   "metadata": {},
   "outputs": [],
   "source": [
    "# b_dates_df_ages.loc[b_dates_df_ages['artists'] == 'Khalid', 'b_dates'] = 'February 11, 1998'\n",
    "# b_dates_df_ages.loc[b_dates_df_ages['artists'] == 'Anne-Marie', 'b_dates'] = 'April 7, 1991'\n",
    "# b_dates_df_ages.loc[b_dates_df_ages['artists'] == 'Miguel', 'b_dates'] = 'October 23, 1985'\n",
    "# b_dates_df_ages.loc[b_dates_df_ages['artists'] == 'Darell', 'b_dates'] = 'January 5, 1990'\n",
    "# b_dates_df_ages.loc[b_dates_df_ages['artists'] == 'Ozuna', 'b_dates'] = 'March 13, 1992'\n",
    "# b_dates_df_ages.loc[b_dates_df_ages['artists'] == 'Lauv', 'b_dates'] = 'August 8, 1994'"
   ]
  },
  {
   "cell_type": "code",
   "execution_count": 381,
   "metadata": {},
   "outputs": [
    {
     "data": {
      "text/plain": [
       "102"
      ]
     },
     "execution_count": 381,
     "metadata": {},
     "output_type": "execute_result"
    }
   ],
   "source": [
    "len(b_dates_df)"
   ]
  },
  {
   "cell_type": "code",
   "execution_count": 375,
   "metadata": {},
   "outputs": [
    {
     "data": {
      "text/plain": [
       "12"
      ]
     },
     "execution_count": 375,
     "metadata": {},
     "output_type": "execute_result"
    }
   ],
   "source": [
    "len(b_dates_null)"
   ]
  },
  {
   "cell_type": "code",
   "execution_count": 404,
   "metadata": {},
   "outputs": [],
   "source": [
    "df_without_null = b_dates_df.drop(b_dates_df[b_dates_df.ages == 'null'].index)"
   ]
  },
  {
   "cell_type": "code",
   "execution_count": 405,
   "metadata": {
    "scrolled": true
   },
   "outputs": [
    {
     "data": {
      "text/html": [
       "<div>\n",
       "<style scoped>\n",
       "    .dataframe tbody tr th:only-of-type {\n",
       "        vertical-align: middle;\n",
       "    }\n",
       "\n",
       "    .dataframe tbody tr th {\n",
       "        vertical-align: top;\n",
       "    }\n",
       "\n",
       "    .dataframe thead th {\n",
       "        text-align: right;\n",
       "    }\n",
       "</style>\n",
       "<table border=\"1\" class=\"dataframe\">\n",
       "  <thead>\n",
       "    <tr style=\"text-align: right;\">\n",
       "      <th></th>\n",
       "      <th>artists</th>\n",
       "      <th>b_dates</th>\n",
       "      <th>ages</th>\n",
       "    </tr>\n",
       "  </thead>\n",
       "  <tbody>\n",
       "    <tr>\n",
       "      <th>0</th>\n",
       "      <td>Drake</td>\n",
       "      <td>October 24, 1986</td>\n",
       "      <td>32</td>\n",
       "    </tr>\n",
       "    <tr>\n",
       "      <th>1</th>\n",
       "      <td>Ed Sheeran</td>\n",
       "      <td>February 17, 1991</td>\n",
       "      <td>28</td>\n",
       "    </tr>\n",
       "    <tr>\n",
       "      <th>2</th>\n",
       "      <td>Juice WRLD</td>\n",
       "      <td>December 2, 1998</td>\n",
       "      <td>20</td>\n",
       "    </tr>\n",
       "    <tr>\n",
       "      <th>3</th>\n",
       "      <td>Post Malone</td>\n",
       "      <td>July 4, 1995</td>\n",
       "      <td>24</td>\n",
       "    </tr>\n",
       "    <tr>\n",
       "      <th>4</th>\n",
       "      <td>Ella Mai</td>\n",
       "      <td>November 3, 1994</td>\n",
       "      <td>24</td>\n",
       "    </tr>\n",
       "  </tbody>\n",
       "</table>\n",
       "</div>"
      ],
      "text/plain": [
       "       artists            b_dates ages\n",
       "0        Drake   October 24, 1986   32\n",
       "1   Ed Sheeran  February 17, 1991   28\n",
       "2   Juice WRLD   December 2, 1998   20\n",
       "3  Post Malone       July 4, 1995   24\n",
       "4     Ella Mai   November 3, 1994   24"
      ]
     },
     "execution_count": 405,
     "metadata": {},
     "output_type": "execute_result"
    }
   ],
   "source": [
    "df_without_null.head()"
   ]
  },
  {
   "cell_type": "code",
   "execution_count": 392,
   "metadata": {},
   "outputs": [
    {
     "data": {
      "text/plain": [
       "84"
      ]
     },
     "execution_count": 392,
     "metadata": {},
     "output_type": "execute_result"
    }
   ],
   "source": [
    "len(df_without_nan)"
   ]
  },
  {
   "cell_type": "code",
   "execution_count": 386,
   "metadata": {},
   "outputs": [],
   "source": [
    "# df_band = b_dates_df.drop(b_dates_df[b_dates_df.ages != 'null'].index)"
   ]
  },
  {
   "cell_type": "code",
   "execution_count": 391,
   "metadata": {},
   "outputs": [
    {
     "data": {
      "text/plain": [
       "False"
      ]
     },
     "execution_count": 391,
     "metadata": {},
     "output_type": "execute_result"
    }
   ],
   "source": [
    "b_dates_df_ages.isnull().values.any()"
   ]
  },
  {
   "cell_type": "code",
   "execution_count": 394,
   "metadata": {},
   "outputs": [
    {
     "data": {
      "text/html": [
       "<div>\n",
       "<style scoped>\n",
       "    .dataframe tbody tr th:only-of-type {\n",
       "        vertical-align: middle;\n",
       "    }\n",
       "\n",
       "    .dataframe tbody tr th {\n",
       "        vertical-align: top;\n",
       "    }\n",
       "\n",
       "    .dataframe thead th {\n",
       "        text-align: right;\n",
       "    }\n",
       "</style>\n",
       "<table border=\"1\" class=\"dataframe\">\n",
       "  <thead>\n",
       "    <tr style=\"text-align: right;\">\n",
       "      <th></th>\n",
       "      <th>artists</th>\n",
       "      <th>b_dates</th>\n",
       "      <th>ages</th>\n",
       "    </tr>\n",
       "  </thead>\n",
       "  <tbody>\n",
       "    <tr>\n",
       "      <th>17</th>\n",
       "      <td>5 Seconds Of Summer</td>\n",
       "      <td>nan</td>\n",
       "      <td>null</td>\n",
       "    </tr>\n",
       "    <tr>\n",
       "      <th>36</th>\n",
       "      <td>Florida Georgia Line</td>\n",
       "      <td>nan</td>\n",
       "      <td>null</td>\n",
       "    </tr>\n",
       "    <tr>\n",
       "      <th>98</th>\n",
       "      <td>Rae Sremmurd</td>\n",
       "      <td>nan</td>\n",
       "      <td>null</td>\n",
       "    </tr>\n",
       "    <tr>\n",
       "      <th>29</th>\n",
       "      <td>Maroon 5</td>\n",
       "      <td>nan</td>\n",
       "      <td>null</td>\n",
       "    </tr>\n",
       "    <tr>\n",
       "      <th>92</th>\n",
       "      <td>N*E*R*D</td>\n",
       "      <td>Null</td>\n",
       "      <td>null</td>\n",
       "    </tr>\n",
       "  </tbody>\n",
       "</table>\n",
       "</div>"
      ],
      "text/plain": [
       "                 artists b_dates  ages\n",
       "17   5 Seconds Of Summer     nan  null\n",
       "36  Florida Georgia Line     nan  null\n",
       "98          Rae Sremmurd     nan  null\n",
       "29              Maroon 5     nan  null\n",
       "92               N*E*R*D    Null  null"
      ]
     },
     "execution_count": 394,
     "metadata": {},
     "output_type": "execute_result"
    }
   ],
   "source": [
    "# Sort null first\n",
    "b_dates_df.sort_values(by='ages', ascending=False, na_position='first').head()"
   ]
  },
  {
   "cell_type": "code",
   "execution_count": 358,
   "metadata": {},
   "outputs": [],
   "source": [
    "# b_dates_df_ages['ages'] = ages"
   ]
  },
  {
   "cell_type": "code",
   "execution_count": 387,
   "metadata": {},
   "outputs": [
    {
     "data": {
      "text/html": [
       "<div>\n",
       "<style scoped>\n",
       "    .dataframe tbody tr th:only-of-type {\n",
       "        vertical-align: middle;\n",
       "    }\n",
       "\n",
       "    .dataframe tbody tr th {\n",
       "        vertical-align: top;\n",
       "    }\n",
       "\n",
       "    .dataframe thead th {\n",
       "        text-align: right;\n",
       "    }\n",
       "</style>\n",
       "<table border=\"1\" class=\"dataframe\">\n",
       "  <thead>\n",
       "    <tr style=\"text-align: right;\">\n",
       "      <th></th>\n",
       "      <th>artists</th>\n",
       "      <th>b_dates</th>\n",
       "      <th>ages</th>\n",
       "    </tr>\n",
       "  </thead>\n",
       "  <tbody>\n",
       "    <tr>\n",
       "      <th>10</th>\n",
       "      <td>Imagine Dragons</td>\n",
       "      <td>nan</td>\n",
       "      <td>null</td>\n",
       "    </tr>\n",
       "    <tr>\n",
       "      <th>14</th>\n",
       "      <td>Dan + Shay</td>\n",
       "      <td>nan</td>\n",
       "      <td>null</td>\n",
       "    </tr>\n",
       "    <tr>\n",
       "      <th>15</th>\n",
       "      <td>Portugal. The Man</td>\n",
       "      <td>nan</td>\n",
       "      <td>null</td>\n",
       "    </tr>\n",
       "    <tr>\n",
       "      <th>17</th>\n",
       "      <td>5 Seconds Of Summer</td>\n",
       "      <td>nan</td>\n",
       "      <td>null</td>\n",
       "    </tr>\n",
       "    <tr>\n",
       "      <th>22</th>\n",
       "      <td>Migos</td>\n",
       "      <td>nan</td>\n",
       "      <td>null</td>\n",
       "    </tr>\n",
       "    <tr>\n",
       "      <th>29</th>\n",
       "      <td>Maroon 5</td>\n",
       "      <td>nan</td>\n",
       "      <td>null</td>\n",
       "    </tr>\n",
       "    <tr>\n",
       "      <th>36</th>\n",
       "      <td>Florida Georgia Line</td>\n",
       "      <td>nan</td>\n",
       "      <td>null</td>\n",
       "    </tr>\n",
       "    <tr>\n",
       "      <th>50</th>\n",
       "      <td>Grey</td>\n",
       "      <td>Null</td>\n",
       "      <td>null</td>\n",
       "    </tr>\n",
       "    <tr>\n",
       "      <th>72</th>\n",
       "      <td>MAX</td>\n",
       "      <td>Null</td>\n",
       "      <td>null</td>\n",
       "    </tr>\n",
       "    <tr>\n",
       "      <th>86</th>\n",
       "      <td>Bastille</td>\n",
       "      <td>nan</td>\n",
       "      <td>null</td>\n",
       "    </tr>\n",
       "    <tr>\n",
       "      <th>92</th>\n",
       "      <td>N*E*R*D</td>\n",
       "      <td>Null</td>\n",
       "      <td>null</td>\n",
       "    </tr>\n",
       "    <tr>\n",
       "      <th>98</th>\n",
       "      <td>Rae Sremmurd</td>\n",
       "      <td>nan</td>\n",
       "      <td>null</td>\n",
       "    </tr>\n",
       "  </tbody>\n",
       "</table>\n",
       "</div>"
      ],
      "text/plain": [
       "                 artists b_dates  ages\n",
       "10       Imagine Dragons     nan  null\n",
       "14            Dan + Shay     nan  null\n",
       "15     Portugal. The Man     nan  null\n",
       "17   5 Seconds Of Summer     nan  null\n",
       "22                 Migos     nan  null\n",
       "29              Maroon 5     nan  null\n",
       "36  Florida Georgia Line     nan  null\n",
       "50                  Grey    Null  null\n",
       "72                   MAX    Null  null\n",
       "86              Bastille     nan  null\n",
       "92               N*E*R*D    Null  null\n",
       "98          Rae Sremmurd     nan  null"
      ]
     },
     "execution_count": 387,
     "metadata": {},
     "output_type": "execute_result"
    }
   ],
   "source": [
    "df_band"
   ]
  },
  {
   "cell_type": "code",
   "execution_count": 395,
   "metadata": {},
   "outputs": [
    {
     "data": {
      "text/html": [
       "<div>\n",
       "<style scoped>\n",
       "    .dataframe tbody tr th:only-of-type {\n",
       "        vertical-align: middle;\n",
       "    }\n",
       "\n",
       "    .dataframe tbody tr th {\n",
       "        vertical-align: top;\n",
       "    }\n",
       "\n",
       "    .dataframe thead th {\n",
       "        text-align: right;\n",
       "    }\n",
       "</style>\n",
       "<table border=\"1\" class=\"dataframe\">\n",
       "  <thead>\n",
       "    <tr style=\"text-align: right;\">\n",
       "      <th></th>\n",
       "      <th>artists</th>\n",
       "      <th>b_dates</th>\n",
       "      <th>ages</th>\n",
       "    </tr>\n",
       "  </thead>\n",
       "  <tbody>\n",
       "    <tr>\n",
       "      <th>20</th>\n",
       "      <td>Lil Pump</td>\n",
       "      <td>August 17, 2000</td>\n",
       "      <td>18</td>\n",
       "    </tr>\n",
       "    <tr>\n",
       "      <th>38</th>\n",
       "      <td>YoungBoy Never Broke Again</td>\n",
       "      <td>October 20, 1999</td>\n",
       "      <td>19</td>\n",
       "    </tr>\n",
       "    <tr>\n",
       "      <th>2</th>\n",
       "      <td>Juice WRLD</td>\n",
       "      <td>December 2, 1998</td>\n",
       "      <td>20</td>\n",
       "    </tr>\n",
       "    <tr>\n",
       "      <th>6</th>\n",
       "      <td>XXXTENTACION</td>\n",
       "      <td>January 23, 1998</td>\n",
       "      <td>21</td>\n",
       "    </tr>\n",
       "    <tr>\n",
       "      <th>21</th>\n",
       "      <td>Shawn Mendes</td>\n",
       "      <td>August 8, 1998</td>\n",
       "      <td>21</td>\n",
       "    </tr>\n",
       "  </tbody>\n",
       "</table>\n",
       "</div>"
      ],
      "text/plain": [
       "                       artists           b_dates  ages\n",
       "20                    Lil Pump   August 17, 2000    18\n",
       "38  YoungBoy Never Broke Again  October 20, 1999    19\n",
       "2                   Juice WRLD  December 2, 1998    20\n",
       "6                 XXXTENTACION  January 23, 1998    21\n",
       "21                Shawn Mendes    August 8, 1998    21"
      ]
     },
     "execution_count": 395,
     "metadata": {},
     "output_type": "execute_result"
    }
   ],
   "source": [
    "df_without_nan.sort_values(by='ages', ascending=True).head()"
   ]
  },
  {
   "cell_type": "code",
   "execution_count": 396,
   "metadata": {},
   "outputs": [
    {
     "data": {
      "text/html": [
       "<div>\n",
       "<style scoped>\n",
       "    .dataframe tbody tr th:only-of-type {\n",
       "        vertical-align: middle;\n",
       "    }\n",
       "\n",
       "    .dataframe tbody tr th {\n",
       "        vertical-align: top;\n",
       "    }\n",
       "\n",
       "    .dataframe thead th {\n",
       "        text-align: right;\n",
       "    }\n",
       "</style>\n",
       "<table border=\"1\" class=\"dataframe\">\n",
       "  <thead>\n",
       "    <tr style=\"text-align: right;\">\n",
       "      <th></th>\n",
       "      <th>artists</th>\n",
       "      <th>b_dates</th>\n",
       "      <th>ages</th>\n",
       "    </tr>\n",
       "  </thead>\n",
       "  <tbody>\n",
       "    <tr>\n",
       "      <th>39</th>\n",
       "      <td>Daddy Yankee</td>\n",
       "      <td>February 3, 1977</td>\n",
       "      <td>42</td>\n",
       "    </tr>\n",
       "    <tr>\n",
       "      <th>33</th>\n",
       "      <td>Jason Aldean</td>\n",
       "      <td>February 28, 1977</td>\n",
       "      <td>42</td>\n",
       "    </tr>\n",
       "    <tr>\n",
       "      <th>76</th>\n",
       "      <td>DJ Khaled</td>\n",
       "      <td>November 26, 1975</td>\n",
       "      <td>43</td>\n",
       "    </tr>\n",
       "    <tr>\n",
       "      <th>99</th>\n",
       "      <td>Juicy J</td>\n",
       "      <td>April 5, 1975</td>\n",
       "      <td>44</td>\n",
       "    </tr>\n",
       "    <tr>\n",
       "      <th>37</th>\n",
       "      <td>Kenny Chesney</td>\n",
       "      <td>March 26, 1968</td>\n",
       "      <td>51</td>\n",
       "    </tr>\n",
       "  </tbody>\n",
       "</table>\n",
       "</div>"
      ],
      "text/plain": [
       "          artists            b_dates  ages\n",
       "39   Daddy Yankee   February 3, 1977    42\n",
       "33   Jason Aldean  February 28, 1977    42\n",
       "76      DJ Khaled  November 26, 1975    43\n",
       "99        Juicy J      April 5, 1975    44\n",
       "37  Kenny Chesney     March 26, 1968    51"
      ]
     },
     "execution_count": 396,
     "metadata": {},
     "output_type": "execute_result"
    }
   ],
   "source": [
    "df_without_nan.sort_values(by='ages', ascending=True).tail()"
   ]
  },
  {
   "cell_type": "code",
   "execution_count": 335,
   "metadata": {},
   "outputs": [],
   "source": [
    "df_without_nan['ages'] = pd.to_numeric(df_without_nan['ages'], downcast='signed')"
   ]
  },
  {
   "cell_type": "code",
   "execution_count": 360,
   "metadata": {},
   "outputs": [
    {
     "data": {
      "image/png": "[encoded data removed]",
      "text/plain": [
       "<Figure size 432x288 with 1 Axes>"
      ]
     },
     "metadata": {},
     "output_type": "display_data"
    }
   ],
   "source": [
    "import matplotlib\n",
    "from matplotlib import pyplot as plt\n",
    "\n",
    "bins = 10\n",
    "\n",
    "plt.hist(list(df_without_nan['ages']), alpha = 1, label='artists')\n",
    "\n",
    "plt.xlabel('ages')\n",
    "plt.ylabel('numbers')\n",
    "plt.grid()\n",
    "\n",
    "\n",
    "plt.legend(loc='upper right')\n",
    "\n",
    "plt.show()"
   ]
  },
  {
   "cell_type": "code",
   "execution_count": null,
   "metadata": {},
   "outputs": [],
   "source": []
  },
  {
   "cell_type": "code",
   "execution_count": 93,
   "metadata": {},
   "outputs": [],
   "source": [
    "from lxml import html\n",
    "import requests\n",
    "for a in artists:\n",
    "    b_dates = []\n",
    "    ages = []\n",
    "    try:\n",
    "        page = requests.get(\"https://www.famousbirthdays.com/people/\" + a + \".html\")\n",
    "        content = html.fromstring(page.content)\n",
    "        b_date = content.xpath(\"/html/body/div[1]/div[1]/div[1]/div/div[3]/div/div/div[2]/div/div[1]/div/div[1]/div/a[1]/text()\")\n",
    "        b_month = content.xpath(\"/html/body/div[1]/div[1]/div[1]/div/div[3]/div/div/div[2]/div/div[1]/div/div[1]/div/a[1]/span[1]/text()\")\n",
    "        b_year = content.xpath(\"/html/body/div[1]/div[1]/div[1]/div/div[3]/div/div/div[2]/div/div[1]/div/div[1]/div/a[2]/text()\")\n",
    "        b = b_date + b_month + b_year\n",
    "        b = \" \".join(b)\n",
    "        b_dates.append(a + \", \" + b)\n",
    "        age = content.xpath(\"/html/body/div[1]/div[1]/div[1]/div/div[3]/div/div/div[2]/div/div[1]/div/div[3]/div/a/text()\")\n",
    "        ages.append(age)\n",
    "    except NoSuchElementException:\n",
    "        b_dates.append(a + \", Null\")\n",
    "        ages.append(a + \", Null\")"
   ]
  },
  {
   "cell_type": "code",
   "execution_count": 105,
   "metadata": {},
   "outputs": [],
   "source": [
    "def get_age(artists):\n",
    "    for a in artists:\n",
    "        page = requests.get(\"https://www.famousbirthdays.com/people/\" + a + \".html\")\n",
    "        content = html.fromstring(page.content)\n",
    "        b_date = content.xpath(\"/html/body/div[1]/div[1]/div[1]/div/div[3]/div/div/div[2]/div/div[1]/div/div[1]/div/a[1]/text()\")\n",
    "        b_month = content.xpath(\"/html/body/div[1]/div[1]/div[1]/div/div[3]/div/div/div[2]/div/div[1]/div/div[1]/div/a[1]/span[1]/text()\")\n",
    "        b_year = content.xpath(\"/html/body/div[1]/div[1]/div[1]/div/div[3]/div/div/div[2]/div/div[1]/div/div[1]/div/a[2]/text()\")\n",
    "        b = b_date + b_month + b_year\n",
    "        birth_date.append(b)\n",
    "        age = content.xpath(\"/html/body/div[1]/div[1]/div[1]/div/div[3]/div/div/div[2]/div/div[1]/div/div[3]/div/a/text()\")\n",
    "        ages.append(age)\n",
    "        # b_dates.append(a + \", \" + birth_date)\n",
    "        # content.xpath(\"/html/body/div[1]/div[1]/div[1]/div/div[3]/div/div/div[2]/div/div[1]/div/div[3]/div/a/text()\")\n",
    "        # ages.append(age)\n",
    "        # except NoSuchElementException:\n",
    "        # b_dates.append(a + \", Null\")\n",
    "        # ages.append(a + \", Null\")"
   ]
  },
  {
   "cell_type": "code",
   "execution_count": 107,
   "metadata": {},
   "outputs": [],
   "source": [
    "get_age(artists)"
   ]
  },
  {
   "cell_type": "code",
   "execution_count": 106,
   "metadata": {},
   "outputs": [],
   "source": [
    "birth_date = []\n",
    "ages = []"
   ]
  },
  {
   "cell_type": "code",
   "execution_count": 114,
   "metadata": {},
   "outputs": [],
   "source": [
    "def get_age():\n",
    "    content = html.fromstring(page.content)\n",
    "    b_date = content.xpath(\"/html/body/div[1]/div[1]/div[1]/div/div[3]/div/div/div[2]/div/div[1]/div/div[1]/div/a[1]/text()\")\n",
    "    b_month = content.xpath(\"/html/body/div[1]/div[1]/div[1]/div/div[3]/div/div/div[2]/div/div[1]/div/div[1]/div/a[1]/span[1]/text()\")\n",
    "    b_year = content.xpath(\"/html/body/div[1]/div[1]/div[1]/div/div[3]/div/div/div[2]/div/div[1]/div/div[1]/div/a[2]/text()\")\n",
    "    b = b_date + b_month + b_year\n",
    "    birth_date.append(b)\n",
    "    age = content.xpath(\"/html/body/div[1]/div[1]/div[1]/div/div[3]/div/div/div[2]/div/div[1]/div/div[3]/div/a/text()\")\n",
    "    ages.append(age)\n",
    "    # content.xpath(\"/html/body/div[1]/div[1]/div[1]/div/div[3]/div/div/div[2]/div/div[1]/div/div[3]/div/a/text()\")\n",
    "    # ages.append(age)\n",
    "    # except NoSuchElementException:\n",
    "    # b_dates.append(a + \", Null\")\n",
    "    # ages.append(a + \", Null\")"
   ]
  },
  {
   "cell_type": "code",
   "execution_count": 115,
   "metadata": {},
   "outputs": [],
   "source": [
    "for a in artists:\n",
    "    page = requests.get(\"https://www.famousbirthdays.com/people/\" + a + \".html\")\n",
    "    get_age()"
   ]
  },
  {
   "cell_type": "code",
   "execution_count": 121,
   "metadata": {},
   "outputs": [],
   "source": [
    "url = f'https://www.famousbirthdays.com/people/alessia-cara'\n",
    "texts = requests.get(url).text\n",
    "# texts.split('<title>')[1].split('</title>')[0].split(' : 세계 최대 장난감ㆍ유아용품 전문점 토이저러스 온라인몰')[0]\n",
    "# titles = list()\n",
    "\n",
    "# for a in artists:\n",
    "#     url = f'https://www.famousbirthdays.com/people/{a}'\n",
    "# #     b_date = content.xpath(\"/html/body/div[1]/div[1]/div[1]/div/div[3]/div/div/div[2]/div/div[1]/div/div[1]/div/a[1]/text()\")\n",
    "    \n",
    "#     texts = requests.get(url).text\n",
    "#     title = texts.split('<title>')[1].split('</title>')[0].split(' : 세계 최대 장난감ㆍ유아용품 전문점 토이저러스 온라인몰')[0]\n",
    "#     titles.append(title)"
   ]
  },
  {
   "cell_type": "code",
   "execution_count": 88,
   "metadata": {},
   "outputs": [
    {
     "data": {
      "text/plain": [
       "['23 years old']"
      ]
     },
     "execution_count": 88,
     "metadata": {},
     "output_type": "execute_result"
    }
   ],
   "source": [
    "age"
   ]
  },
  {
   "cell_type": "code",
   "execution_count": 81,
   "metadata": {},
   "outputs": [
    {
     "data": {
      "text/plain": [
       "[' 11', 'July', '1996']"
      ]
     },
     "execution_count": 81,
     "metadata": {},
     "output_type": "execute_result"
    }
   ],
   "source": [
    "b"
   ]
  },
  {
   "cell_type": "code",
   "execution_count": 80,
   "metadata": {},
   "outputs": [
    {
     "data": {
      "text/plain": [
       "['1996']"
      ]
     },
     "execution_count": 80,
     "metadata": {},
     "output_type": "execute_result"
    }
   ],
   "source": [
    "b_year"
   ]
  },
  {
   "cell_type": "code",
   "execution_count": 79,
   "metadata": {},
   "outputs": [
    {
     "data": {
      "text/plain": [
       "['July']"
      ]
     },
     "execution_count": 79,
     "metadata": {},
     "output_type": "execute_result"
    }
   ],
   "source": [
    "b_month"
   ]
  },
  {
   "cell_type": "code",
   "execution_count": 122,
   "metadata": {},
   "outputs": [
    {
     "data": {
      "text/plain": [
       "'<!doctype html>\\n<html class=\"no-js\" lang=\"en\">\\n<head>\\n<link rel=\"dns-prefetch\" href=\"//c.amazon-adsystem.com/\">\\n<link rel=\"dns-prefetch\" href=\"//www.googletagservices.com/\">\\n<link rel=\"dns-prefetch\" href=\"//famousbirthdays-d.openx.net\">\\n<link rel=\"dns-prefetch\" href=\"//www.google-analytics.com/\">\\n<link rel=\"dns-prefetch\" href=\"//securepubads.g.doubleclick.net/\">\\n<link rel=\"dns-prefetch\" href=\"//content.jwplatform.com/\">\\n<link rel=\"dns-prefetch\" href=\"//ib.adnxs.com\">\\n<link rel=\"dns-prefetch\" href=\"//fonts.googleapis.com/\">\\n<link rel=\"dns-prefetch\" href=\"//btlr.sharethrough.com\">\\n<link rel=\"dns-prefetch\" href=\"//a.teads.tv\">\\n<meta charset=\"utf-8\">\\n<meta http-equiv=\"X-UA-Compatible\" content=\"IE=edge,chrome=1\">\\n<title>Page Not Found | Famous Birthdays </title>\\n<meta name=\"description\" content=\"Who else was born on your birthday? Find out quickly and easily at FamousBirthdays.com. You can also discover the popularity rank of famous people.\">\\n<meta name=\"viewport\" content=\"width=device-width, initial-scale=1, maximum-scale=1, user-scalable=no\">\\n<meta name=\"theme-color\" content=\"#E4138E\">\\n<link rel=\"icon\" href=\"/favicon.ico\" type=\"image/x-icon\">\\n<link rel=\"image_src\" href=\"/images/fbstar.png\">\\n<link rel=\"apple-touch-icon\" href=\"/apple-touch-icon.png\">\\n<link rel=\"manifest\" href=\"/manifest.json\">\\n<meta name=\"robots\" content=\"noindex,nofollow\">\\n<link rel=\"stylesheet\" href=\"/static/css/combined.min.css?v1\">\\n<script>\\nvar useSSL=\"https:\"==document.location.protocol;var googletag=googletag||{};windowWidthForAds=window.innerWidth\\nszs={m:460,t:767,ds:990,dl:990};var PREBID_TIMEOUT=windowWidthForAds>szs.t?725:1110,REFRESH_TRHESH=30;googletag.cmd=googletag.cmd||[];var pbjs=pbjs||{};pbjs.que=pbjs.que||[];function initAdserver(){if(pbjs.initAdserverSet)return;(function(){var gads=document.createElement(\\'script\\');gads.async=!0;gads.type=\\'text/javascript\\';var useSSL=\\'https:\\'==document.location.protocol;gads.src=(useSSL?\\'https:\\':\\'http:\\')+\\'//securepubads.g.doubleclick.net/tag/js/gpt.js\\';var node=document.getElementsByTagName(\\'script\\')[0];node.parentNode.insertBefore(gads,node)})();pbjs.initAdserverSet=!0}\\nsetTimeout(initAdserver,PREBID_TIMEOUT);var btSlots={\\'div-gpt-ad-1389369874725-0\\':\\'5bae6180e1-243\\',\\'div-gpt-ad-1391210931444-0\\':\\'5bae603896-243\\',\\'div-gpt-ad-1391213528835-0\\':\\'5bae60cda8-243\\',\\'div-gpt-ad-1391216460869-2\\':\\'5bae60689c-243\\',\\'div-gpt-ad-1391216734145-1\\':\\'5bae60b2e5-243\\',\\'div-gpt-ad-1412066041527-0\\':\\'5bae615ac2-243\\',\\'div-gpt-ad-1415239662797-0\\':\\'5bae611821-243\\',\\'div-gpt-ad-1423776989563-0\\':\\'5bae6093ea-243\\',\\'div-gpt-ad-1505934270777-0\\':\\'5bae61382d-243\\'};var btScript=document.createElement(\\'script\\');btScript.src=\\'https://famousbirthdays-com.videoplayerhub.com/gallery.js\\';btScript.onload=function(){BT.getPermissionToReinsert(function(isPermitted){if(isPermitted){Object.keys(btSlots).forEach(function(slot){var containerId=slot+\\'-container\\';var container=document.getElementById(containerId);if(container){var adTag=document.createElement(\\'span\\');adTag.setAttribute(\\'data-uid\\',btSlots[slot]);adTag.setAttribute(\"style\",\"display: none !important;\");adTag.classList.add(\"bt-uid-tg\");container.appendChild(adTag)}});BT.clearThrough()}})}\\ndocument.head.insertBefore(btScript,document.head.firstElementChild);var ssf=!1;console.log(\\'sticky?\\',ssf);(function(){var d=document;var pbs=d.createElement(\"script\");pbs.type=\"text/javascript\";pbs.src=\\'/static/js/prebid-2.27.0.js?t25\\';pbs.async=!0;var target=d.getElementsByTagName(\"head\")[0];target.insertBefore(pbs,target.firstChild)})();pbjs.que.push(function(){var inc=pbjs.setConfig({priceGranularity:\\'high\\',debug:!1,cache:{url:\"https://prebid.adnxs.com/pbc/v1/cache\"},s2sConfig:{endpoint:\"https://prebid.adnxs.com/pbs/v1/openrtb2/auction\",syncEndpoint:\"https://prebid.adnxs.com/pbs/v1/cookie_sync\",},userSync:{filterSettings:{iframe:{bidders:\\'*\\',filter:\\'include\\'}}}})});pbjs.que.push(function(){var adUnits=[];adUnits.push({code:\\'div-gpt-ad-1391210931444-0\\',mediaTypes:{banner:{sizes:(windowWidthForAds>szs.t?[[970,90],[728,90]]:[[320,50]])}},bids:[{bidder:\\'ix\\',params:{siteId:(windowWidthForAds>szs.t?\\'184740\\':\\'184747\\'),size:(windowWidthForAds>szs.t?[970,90]:[320,50])}},{bidder:\\'ix\\',params:{siteId:(windowWidthForAds>szs.t?\\'184740\\':\\'184747\\'),size:(windowWidthForAds>szs.t?[728,90]:[320,50])}},{bidder:\\'appnexusAst\\',params:{placementId:\\'9524040\\'}},{bidder:\\'aol\\',params:{placement:(windowWidthForAds>szs.t?\\'4298586\\':\\'4298592\\'),network:\\'10699.1\\'}},{bidder:\\'conversant\\',params:{site_id:\\'111066\\',secure:(useSSL?!0:!1)}},{bidder:\\'gumgum\\',params:{inSlot:(windowWidthForAds>szs.t?\\'5976\\':\\'5975\\')}},{bidder:\\'consumable\\',params:{unitId:(windowWidthForAds>=szs.ds?\\'6896\\':\\'6893\\'),unitName:\\'cnsmbl-audio-300x250-slider\\',zoneIds:(windowWidthForAds>=szs.ds?[2002376]:[2002373]),siteId:\\'2000709\\',networkId:\\'9969\\'}},{bidder:\\'audienceNetwork\\',params:{placementId:\\'828742283953139_832434056917295\\'}}]});adUnits.push({code:\\'div-gpt-ad-1391213528835-0\\',mediaTypes:{banner:{sizes:(windowWidthForAds>szs.t?(windowWidthForAds<szs.dl?[[728,90]]:[[970,90],[728,90],[970,250]]):[[300,250],[320,50],[336,280],[320,100]]),}},bids:[{bidder:\\'ix\\',params:{siteId:(windowWidthForAds>szs.t?\\'184744\\':\\'184750\\'),size:(windowWidthForAds>szs.t?[728,90]:[320,50])}},{bidder:\\'ix\\',params:{siteId:(windowWidthForAds>szs.t?\\'184744\\':\\'184750\\'),size:(windowWidthForAds>szs.t?(windowWidthForAds<szs.dl?[728,90]:[970,250]):[300,250]),}},{bidder:\\'ix\\',params:{siteId:(windowWidthForAds>szs.t?\\'184744\\':\\'184750\\'),size:(windowWidthForAds>szs.t?(windowWidthForAds<szs.dl?[728,90]:[970,90]):[300,250]),}},{bidder:\\'appnexusAst\\',params:{placementId:\\'9524018\\'}},{bidder:\\'aol\\',params:{placement:(windowWidthForAds>szs.t?\\'4298595\\':\\'4298593\\'),network:\\'10699.1\\'}},{bidder:\\'conversant\\',params:{site_id:\\'111066\\',secure:(useSSL?!0:!1)}},{bidder:\\'gumgum\\',params:{inSlot:(windowWidthForAds>szs.t?\\'5978\\':\\'5977\\')}},{bidder:\\'consumable\\',params:{unitId:(windowWidthForAds>=szs.ds?\\'6896\\':\\'6893\\'),unitName:\\'cnsmbl-audio-300x250-slider\\',zoneIds:(windowWidthForAds>=szs.ds?[2002376]:[2002373]),siteId:\\'2000709\\',networkId:\\'9969\\'}},{bidder:\\'audienceNetwork\\',params:{placementId:\\'828742283953139_988675521293147\\',format:\\'fullwidth\\'}}]});if(windowWidthForAds>szs.t){}\\npbjs.addAdUnits(adUnits);pbjs.onEvent(\\'addAdUnits\\',function(){console.log(\\'Ad units were added to Prebid.\\')\\nconsole.log(pbjs.adUnits)});pbjs.onEvent(\\'bidderDone\\',function(){console.log(\\'bidder done.\\')\\nconsole.log(pbjs.adUnits)});pbjs.requestBids({bidsBackHandler:function(bidResponses){initAdserver()}});pbjs.bidderSettings={standard:{adserverTargeting:[{key:\"hb_bidder\",val:function(bidResponse){return bidResponse.bidderCode}},{key:\"hb_adid\",val:function(bidResponse){return bidResponse.adId}},{key:\"hb_pb\",val:function(bidResponse){var cpm=bidResponse.cpm;return(Math.floor(cpm*100)/100).toFixed(2)}}]},aol:{bidCpmAdjustment:function(bidCpm){return bidCpm*1.00}},appnexusAst:{bidCpmAdjustment:function(bidCpm){return bidCpm*1.00}},audienceNetwork:{bidCpmAdjustment:function(bidCpm){return bidCpm*.98}},consumable:{bidCpmAdjustment:function(bidCpm){return bidCpm*.95}},conversant:{bidCpmAdjustment:function(bidCpm){return bidCpm*.98}},gumgum:{bidCpmAdjustment:function(bidCpm){return bidCpm*.97}},ix:{bidCpmAdjustment:function(bidCpm){return bidCpm*1.00}},sharethrough:{bidCpmAdjustment:function(bidCpm){return bidCpm*.93}},teads:{bidCpmAdjustment:function(bidCpm){return bidCpm*.97}},yieldmo:{bidCpmAdjustment:function(bidCpm){return bidCpm*.92}}}});pbjs.que.push(function(){var confiantWrap=function confiantWrap(a,b,c,d,e){function f(a){return(m(a)||\"\")[s](\"/\",\"_\")[s](\"+\",\"-\")}function g(b,c,d){var e=w+n(b)+\"&d=\"+c,f=\"err__\"+1*new Date;k[f]=d;var g=\"<\"+q+\" on\"+t+\\'=\"void(\\'+f+\\'())\" \\'+r+\\'=\"\\'+e+\\'\" type=\"text/java\\'+q+\\'\" ></\\'+q+\">\";a[v](g)}function h(){var c=f(d+\"/\"+x.k.hb_bidder[0]+\":\"+x.k.hb_size[0]),h={wh:c,wd:l.parse(l[u](x)),wr:0};g(c,f(l[u](h)),function(){a[v](b.ad)});var i={prebid:{adId:b.adId,cpm:b.cpm}},j={d:h,t:b.ad,cb:e,id:i};k[d]={},k[d][c]=j}var i=b.bidder,j=b.size,k=a.parentWindow||a.defaultView,l=k.JSON,m=k.btoa,n=k.encodeURIComponent;if(!l||!m)return!1;var o=\"t\",p=\"i\",q=\"script\",r=\"src\",s=\"replace\",t=\"error\",u=\"stringify\",v=\"wr\"+p+o+\"e\",w=\"https://\"+c+\"/?wrapper=\"+n(d)+\"&tpid=\",x={k:{hb_bidder:[i],hb_size:[j]}};return h(),a.close(),!0};var w=window;w._clrm=w._clrm||{};w._clrm.renderAd=w._clrm.renderAd||pbjs.renderAd;var config=w._clrm.prebid||{sandbox:3};var isGoogleFrame=function(c){return c.tagName===\\'IFRAME\\'&&c.id&&c.id.indexOf(\\'google_ads_iframe_\\')>-1}\\nvar shouldSandbox=function(){var uaToRegexMap={\"mobile\":/Mobile|iP(hone|od|ad)|Android|BlackBerry|IEMobile/i,\"ios\":/(.+)(iPhone|iPad|iPod)(.+)OS[\\\\s|\\\\_](\\\\d)\\\\_?(\\\\d)?[\\\\_]?(\\\\d)?.+/i,\"android\":/Android/i},sbStr=\"\"+config.sandbox;if(sbStr===\"1\"){return!0}else if(sbStr===\"2\"){return!navigator.userAgent.match(uaToRegexMap.mobile)}else if(sbStr===\"3\"){return navigator.userAgent.match(uaToRegexMap.mobile)}else if(sbStr===\"4\"){return navigator.userAgent.match(uaToRegexMap.ios)}else if(sbStr===\"5\"){return navigator.userAgent.match(uaToRegexMap.android)}else{return!1}}\\nNode.prototype.appendChild=(function(original){return function(child){if(isGoogleFrame(child)&&shouldSandbox()&&!child.getAttribute(\\'sandbox\\')){child.setAttribute(\\'sandbox\\',\\'allow-forms allow-pointer-lock allow-popups allow-popups-to-escape-sandbox allow-same-origin allow-scripts allow-top-navigation-by-user-activation\\');child.setAttribute(\\'data-forced-sandbox\\',!0)}\\nreturn original.call(this,child)}}(Node.prototype.appendChild));pbjs.renderAd=function(doc,id){if(doc&&id){try{var bids=[],bidResponses=pbjs.getBidResponses(),highestBids=pbjs.getHighestCpmBids();for(var slot in bidResponses){bids=bids.concat(bidResponses[slot].bids)}\\nbids=bids.concat(highestBids);var bid,i;for(i=0;i<bids.length;i++){if(bids[i].adId===id){bid=bids[i];break}}\\nvar confiantExcludeBidders=[\\'teads\\',\\'yieldmo\\',\\'sharethrough\\',\\'conversant\\'];var excludeBidder=!1;for(i=0;i<confiantExcludeBidders.length;i++){if(bid.bidder===confiantExcludeBidders[i]){excludeBidder=!0;break}}\\nif(bid&&bid.ad&&!excludeBidder){var docwrite=doc.write;var docclose=doc.close;doc.write=doc.close=function(){};window._clrm.renderAd(doc,id);delete doc.write;delete doc.close;var callback=function(blockingType,blockingId,isBlocked,wrapperId,tagId,impressionData){console.log(\"w00t one more bad ad nixed.\",arguments)};if(!confiantWrap(doc,bid,\\'clarium.global.ssl.fastly.net\\',\\'38g1_8NyapjkxeynUdXd6b2zpEI\\',callback)){doc.write(bid.ad);doc.close()}\\nreturn}}catch(e){console.log(e)}}\\nwindow._clrm.renderAd(doc,id)}})</script>\\n<script type=\\'text/javascript\\'>\\n  !function(a9,a,p,s,t,A,g){if(a[a9])return;function q(c,r){a[a9]._Q.push([c,r])}a[a9]={init:function(){q(\"i\",arguments)},fetchBids:function(){q(\"f\",arguments)},setDisplayBids:function(){},targetingKeys:function(){return[]},_Q:[]};A=p.createElement(s);A.async=!0;A.src=t;g=p.getElementsByTagName(s)[0];g.parentNode.insertBefore(A,g)}(\"apstag\",window,document,\"script\",\"//c.amazon-adsystem.com/aax2/apstag.js\");apstag.init({pubID:\\'3428\\',adServer:\\'googletag\\'});var amzSlots=[{slotID:\\'div-gpt-ad-1391210931444-0\\',slotName:\\'/20602751/famousbirth-top-leaderboard\\',sizes:(windowWidthForAds>szs.t?[[970,90],[728,90]]:[[320,50]])},{slotID:\\'div-gpt-ad-1391213528835-0\\',slotName:\\'/20602751/famousbirth-bottom-leaderboard\\',sizes:(windowWidthForAds>szs.t?(windowWidthForAds<szs.dl?[[728,90]]:[[970,90],[728,90],[970,250]]):[[300,250],[320,50],[336,280],[320,100]])}]</script>\\n<script>\\n        googletag.cmd.push(function(){googletag.defineSlot(\\'/20602751/famousbirth-top-leaderboard\\',[(windowWidthForAds>szs.t?([970,90],[728,90]):[320,50])],\\'div-gpt-ad-1391210931444-0\\').addService(googletag.pubads());googletag.defineSlot(\\'/20602751/famousbirth-bottom-leaderboard\\',(windowWidthForAds>szs.t?(windowWidthForAds<szs.ds?[[728,90]]:[[970,90],[728,90],[970,250]]):[[300,250],[320,50],[336,280],[320,100]]),\\'div-gpt-ad-1391213528835-0\\').addService(googletag.pubads());pbjs.que.push(function(){pbjs.setTargetingForGPTAsync()});googletag.pubads().enableSingleRequest();googletag.pubads().disableInitialLoad();googletag.enableServices()});apstag.fetchBids({slots:amzSlots},function(bids){googletag.cmd.push(function(){apstag.setDisplayBids();googletag.pubads().refresh()})})</script>\\n</head>\\n<body>\\n<nav class=\"nav nav-fixed-top\" role=\"navigation\">\\n<div class=\"container\">\\n<div class=\"row no-gutter\">\\n<div class=\"col-xs-2 col-sm-3 col-md-2\">\\n<a class=\"brand\" href=\"/\" title=\"FamousBirthdays.com\">Famous Birthdays</a>\\n</div>\\n<div class=\"col-xs-10 col-sm-4\">\\n<form id=\"fb_search\" class=\"search\" role=\"form\" name=\"fb_search\" action=\"/search\" method=\"post\">\\n<input autocomplete=\"off\" type=\"search\" name=\"q\" placeholder=\" Search \" class=\"form-control search search-bar\" aria-label=\"Enter Celebrity or Date\" maxlength=\"80\">\\n<button type=\"submit\" class=\"btn btn-search\" aria-label=\"Search\" title=\"Search\"><i class=\"icn icn-search\"></i></button>\\n</form>\\n</div>\\n<div class=\"col-sm-5 col-md-6\">\\n<ul class=\"quick-links\">\\n<li><a href=\"/video\" title=\"recent videos\"><i class=\"icn icn-video\"></i>video</a></li>\\n<li><a href=\"/trivia\" title=\"recent videos\"><i class=\"icn icn-trivia\"></i>trivia</a></li>\\n<li><a href=\"/most-popular-people.html\" title=\"popular\"><i class=\"icn icn-star\"></i>popular</a></li>\\n<li><a href=\"/trending/\" title=\"trending\"><i class=\"icn icn-trending\"></i>trending</a></li>\\n<li><a id=\"random-person\" href=\"#\" title=\"random\" class=\"random-person\"><i class=\"icn icn-random\"></i>random</a></li>\\n</ul>\\n</div>\\n</div>\\n</div>\\n\\n</div>\\n</nav>\\n<div class=\"page-wrapper\">\\n<div class=\"heading-container container\">\\n<div class=\"row\">\\n<div class=\"col-xs-12\">\\n<div id=\"div-gpt-ad-1391210931444-0-container\" class=\"adspot adspot1\">\\n<div id=\"div-gpt-ad-1391210931444-0\">\\n<script>\\n\\t\\tgoogletag.cmd.push(function() { googletag.display(\\'div-gpt-ad-1391210931444-0\\'); });\\n\\t\\t</script>\\n</div>\\n</div>\\n</div>\\n</div>\\n</div>\\n<div class=\"container\">\\n<div class=\"row\">\\n<div class=\"col-xs-12 list-title-sub\">\\n<h3 class=\"page-title\">Page Not Found</h3>\\n</div>\\n<div class=\"col-xs-12 content-container \">\\n<div class=\"col-xs-12\">\\n<div class=\"text-center\">\\n<h1>Oops!</h1>\\n<p>Visit our <b><a href=\"/\">homepage</a></b> to browse through our site or search for a celebrity or date below</p>\\n<div class=\"row static-search\">\\n<div class=\"search-bar\"><form id=\"fb_search\" class=\"search\" role=\"form\" name=\"fb_search\" action=\"/search\" method=\"post\">\\n<input autocomplete=\"off\" type=\"search\" name=\"q\" placeholder=\"Search\" class=\"form-control search search-bar\" aria-label=\"Enter Celebrity or Date\" maxlength=\"80\">\\n<button type=\"submit\" class=\"btn btn-search\" aria-label=\"Search\" title=\"Search\"><i class=\"icn icn-search\"></i></button>\\n</form>\\n</div>\\n</div> </div>\\n</div>\\n</div>\\n</div>\\n<div class=\"row\">\\n<div class=\"col-xs-12 static-bdays todays-birthdays\">\\n<div>\\n<h2>Today&#039;s Birthdays</h2>\\n<a href=\"https://www.famousbirthdays.com/people/anna-kendrick.html\" class=\"face person-item-small  \" style=\"background: url(https://www.famousbirthdays.com/thumbnails/kendrick-anna-medium.jpg) no-repeat center center; background-size:cover;\">\\n<div class=\"info\">\\n<div class=\"name\">Anna Kendrick</div>\\n<div class=\"title\">Movie Actress</div>\\n</div>\\n</a>\\n<a href=\"https://www.famousbirthdays.com/people/whitney-houston.html\" class=\"face person-item-small  hidden-xxs \" style=\"background: url(https://www.famousbirthdays.com/thumbnails/houston-whitney-medium.jpg) no-repeat center center; background-size:cover;\">\\n<div class=\"info\">\\n<div class=\"name\">Whitney Houston</div>\\n<div class=\"title\">R&amp;B Singer</div>\\n</div>\\n</a>\\n<a href=\"https://www.famousbirthdays.com/people/anwar-jibawi.html\" class=\"face person-item-small hidden-xs  hidden-xxs \" style=\"background: url(https://www.famousbirthdays.com/thumbnails/jibawi-anwar-medium.jpg) no-repeat center center; background-size:cover;\">\\n<div class=\"info\">\\n<div class=\"name\">Anwar Jibawi</div>\\n<div class=\"title\">YouTube Star</div>\\n</div>\\n</a>\\n<a href=\"https://www.famousbirthdays.com/people/bill-skarsgard.html\" class=\"face person-item-small hidden-xs  hidden-xxs \" style=\"background: url(https://www.famousbirthdays.com/thumbnails/skarsgard-bill-medium.jpg) no-repeat center center; background-size:cover;\">\\n<div class=\"info\">\\n<div class=\"name\">Bill Skarsgard</div>\\n<div class=\"title\">Movie Actor</div>\\n</div>\\n</a>\\n<a href=\"https://www.famousbirthdays.com/people/rydel-lynch.html\" class=\"face person-item-small hidden-xs  hidden-xxs \" style=\"background: url(https://www.famousbirthdays.com/thumbnails/lynch-rydel-medium.jpg) no-repeat center center; background-size:cover;\">\\n<div class=\"info\">\\n<div class=\"name\">Rydel Lynch</div>\\n<div class=\"title\">Pop Singer</div>\\n</div>\\n</a>\\n<a href=\"/august9.html\" class=\"face person-item-small last-face-cta\" style=\"background: url(https://www.famousbirthdays.com/thumbnails/bliss-alexa-medium.jpg) no-repeat center center; background-size:cover;\">\\n<div class=\"info\">\\n<div class=\"btn btn-default\">More</div>\\n</div>\\n</a>\\n</div>\\n</div>\\n</div>\\n<div class=\"row\">\\n<div class=\"col-xs-12\">\\n<div id=\"div-gpt-ad-1391213528835-0-container\" class=\"adspot adspot2\">\\n<div id=\"div-gpt-ad-1391213528835-0\">\\n<script>\\n\\t\\tgoogletag.cmd.push(function() { googletag.display(\\'div-gpt-ad-1391213528835-0\\'); });\\n\\t\\t</script>\\n</div>\\n</div>\\n</div>\\n</div>\\n</div>\\n</div>\\n\\n<div class=\"footer-wrapper\">\\n<div class=\"container\">\\n<footer>\\n<div class=\"row\">\\n<div class=\"col-sm-6\">\\n<ul class=\"social\">\\n<li>\\n<a class=\"icn icn-instagram\" href=\"https://instagram.com/famousbirthdays\" target=\"_blank\" rel=\"noopener\" title=\"Famous Birthdays Instagram\"></a>\\n</li>\\n<li>\\n<a class=\"icn icn-youtube\" href=\"https://www.youtube.com/channel/UCwQApaIcl3emwQ2AhQ14ofw\" target=\"_blank\" rel=\"noopener\" title=\"Famous Birthdays YouTube\"></a>\\n</li>\\n<li>\\n<a class=\"icn icn-twitter\" href=\"https://twitter.com/famousbirthdays\" target=\"_blank\" rel=\"noopener\" title=\"Famous Birthdays Twitter\"></a>\\n</li>\\n<li>\\n<a class=\"icn icn-ios\" href=\"https://itunes.apple.com/us/app/famous-birthdays-celebrity/id646707938\" target=\"_blank\" rel=\"noopener\" title=\"Get the Famous Birthdays iOS App\"></a>\\n</li>\\n<li>\\n<a class=\"icn icn-android\" href=\"https://play.google.com/store/apps/details?id=com.famousbirthdays\" target=\"_blank\" rel=\"noopener\" title=\"Get the Famous Birthdays Android App\"></a>\\n</li>\\n</ul>\\n<ul class=\"quick-links\">\\n<li><a href=\"/about/\">About</a></li>\\n<li><a href=\"/contact/\">Contact</a></li>\\n<li><a href=\"https://www.amazon.com/Famous-Birthdays/b/ref=w_bl_sl_ap_ap_web_16005084011?ie=UTF8&node=16005084011&field-lbr_brands_browse-bin=Famous+Birthdays\">Merch</a></li>\\n<li><a href=\"/privacy/\">Privacy</a></li>\\n<li><a href=\"/terms/\">Terms</a></li>\\n</ul>\\n</div>\\n<div class=\"col-sm-6\">\\n<div class=\"row\">\\n <div class=\"col-sm-12\">\\n<a href=\"/\" class=\"brand pull-right\" title=\"FamousBirthdays.com\"></a>\\n</div>\\n</div>\\n<div class=\"row\">\\n<div class=\"col-sm-12\">\\n<ul class=\"copyright\">\\n<li>© FamousBirthdays.com 2019</li>\\n</ul>\\n</div>\\n</div>\\n</div>\\n</div>\\n</footer>\\n</div>\\n</div>\\n\\n<script async src=\"https://www.googletagmanager.com/gtag/js?id=\"></script>\\n<script>\\n      window.dataLayer = window.dataLayer || [];\\n      function gtag(){dataLayer.push(arguments);}\\n      gtag(\\'js\\', new Date());\\n\\n      gtag(\\'config\\', \\'UA-57102239-1\\');\\n    </script>\\n<script>!function(){var a,b=\"8e5831fd\",c=\"https://js.gumgum.com/services.js\",d=top,e=\"script\",f=d.document,g=f.getElementsByTagName(e)[0],h=d.XMLHttpRequest||d.XDomainRequest,i=function(a){var b=f.createElement(e);b.src=a,b.async=!0,g.parentNode.insertBefore(b,g)},j=function(){d.clearTimeout(a)};return d.ggv2id=b,h?(h=new h,h.open(\"GET\",c),h.onload=function(){j();try{(d.execScript||function(a){d.eval.call(d,a)})(h.responseText)}catch(a){}},a=d.setTimeout(function(){h.abort()},3e3),void h.send()):i(c)}();</script>\\n\\n<script>\\n    var _comscore = _comscore || [];\\n    _comscore.push({ c1: \"2\", c2: \"25527630\" });\\n    (function() {\\n      var s = document.createElement(\"script\"), el = document.getElementsByTagName(\"script\")[0]; s.async = true;\\n      s.src = (document.location.protocol == \"https:\" ? \"https://sb\" : \"http://b\") + \".scorecardresearch.com/beacon.js\";\\n      el.parentNode.insertBefore(s, el);\\n    })();\\n  </script>\\n\\n<div id=\"autocomplete-suggestions\" class=\"autocomplete-suggestions\" style=\"position: fixed; display: none; max-height: 300px; z-index: 1000;\"></div>\\n<form name=\"random\" id=\"random-form\" method=\"post\" action=\"/random\"></form>\\n<script type=\"text/javascript\" src=\"/static/js/main.js?v1.36\"></script>\\n<script>\\n    if (\\'serviceWorker\\' in navigator && \\'PushManager\\' in window) {\\n        navigator.serviceWorker.register(\\'/fb-sw.js\\')\\n        .then(function(swReg) {\\n        })\\n        .catch(function(error) {\\n          console.error(\\'Service Worker Error\\', error);\\n        });\\n    }\\n  </script>\\n</body>\\n</html>\\n'"
      ]
     },
     "execution_count": 122,
     "metadata": {},
     "output_type": "execute_result"
    }
   ],
   "source": [
    "texts"
   ]
  },
  {
   "cell_type": "code",
   "execution_count": 95,
   "metadata": {},
   "outputs": [
    {
     "data": {
      "text/plain": [
       "['Beyonce, ']"
      ]
     },
     "execution_count": 95,
     "metadata": {},
     "output_type": "execute_result"
    }
   ],
   "source": [
    "b_dates"
   ]
  },
  {
   "cell_type": "code",
   "execution_count": 94,
   "metadata": {},
   "outputs": [
    {
     "data": {
      "text/plain": [
       "[[]]"
      ]
     },
     "execution_count": 94,
     "metadata": {},
     "output_type": "execute_result"
    }
   ],
   "source": [
    "ages"
   ]
  },
  {
   "cell_type": "code",
   "execution_count": 36,
   "metadata": {},
   "outputs": [
    {
     "data": {
      "text/plain": [
       "['Alessia CaraBIRTHDAY\\nJuly 11, 1996']"
      ]
     },
     "execution_count": 36,
     "metadata": {},
     "output_type": "execute_result"
    }
   ],
   "source": [
    "birth_dates"
   ]
  },
  {
   "cell_type": "code",
   "execution_count": 133,
   "metadata": {},
   "outputs": [
    {
     "data": {
      "text/plain": [
       "'28 years old'"
      ]
     },
     "execution_count": 133,
     "metadata": {},
     "output_type": "execute_result"
    }
   ],
   "source": [
    "# Test\n",
    "search = driver.find_element_by_xpath(\"//*[@id='fb_search']/input\")\n",
    "# Enter search term\n",
    "search.send_keys(\"Ed Sheeran\");\n",
    "# Click search button\n",
    "driver.find_element_by_xpath('//*[@id=\"fb_search\"]/button').click()\n",
    "driver.find_element_by_class_name(\"stat\").text\n",
    "# driver.find_element_by_class_name(\"box\").text\n",
    "# driver.find_element_by_xpath(\"/html/body/div[1]/div[1]/div[1]/div/div[3]/div/div/div[2]/div/div[1]/div/div[1]/div\").text\n",
    "# birth_dates.append(\"Ed Sheeran, \" + birth_date)\n",
    "driver.find_element_by_css_selector(\"body > div.page-wrapper > div.main-section > div.container > div > div.col-sm-7.col-md-8 > div > div > div:nth-child(2) > div > div.row.main-stats > div > div:nth-child(3) > div > a\").text\n",
    "# driver.find_element_by_xpath(\"/html/body/div[1]/div[1]/div[1]/div/div[3]/div/div/div[2]/div/div[1]/div/div[3]/div/a\").text\n",
    "# ages.append(age)"
   ]
  },
  {
   "cell_type": "code",
   "execution_count": 103,
   "metadata": {},
   "outputs": [
    {
     "data": {
      "text/plain": [
       "['Drake, October 24']"
      ]
     },
     "execution_count": 103,
     "metadata": {},
     "output_type": "execute_result"
    }
   ],
   "source": [
    "b_dates"
   ]
  },
  {
   "cell_type": "code",
   "execution_count": null,
   "metadata": {},
   "outputs": [],
   "source": [
    "#     except NoSuchElementException:\n",
    "#         b_dates.append(a + \", Null\")\n",
    "#         ages.append(a + \", Null\")"
   ]
  },
  {
   "cell_type": "code",
   "execution_count": 130,
   "metadata": {},
   "outputs": [
    {
     "data": {
      "text/plain": [
       "[[],\n",
       " [],\n",
       " [],\n",
       " [],\n",
       " [],\n",
       " [],\n",
       " [],\n",
       " [],\n",
       " [],\n",
       " [],\n",
       " [],\n",
       " [],\n",
       " [],\n",
       " [],\n",
       " [],\n",
       " [],\n",
       " [],\n",
       " [],\n",
       " [],\n",
       " [],\n",
       " [],\n",
       " [],\n",
       " [],\n",
       " [],\n",
       " [],\n",
       " [],\n",
       " [],\n",
       " [],\n",
       " [],\n",
       " [],\n",
       " [],\n",
       " [],\n",
       " [],\n",
       " [],\n",
       " [],\n",
       " [],\n",
       " [],\n",
       " [],\n",
       " [],\n",
       " [],\n",
       " [],\n",
       " [],\n",
       " [],\n",
       " [],\n",
       " [],\n",
       " [],\n",
       " [],\n",
       " [],\n",
       " [],\n",
       " [],\n",
       " [],\n",
       " [],\n",
       " [],\n",
       " [],\n",
       " [],\n",
       " [],\n",
       " [],\n",
       " [],\n",
       " [],\n",
       " [],\n",
       " [],\n",
       " [],\n",
       " [],\n",
       " [],\n",
       " [],\n",
       " [],\n",
       " [],\n",
       " [],\n",
       " [],\n",
       " [],\n",
       " [],\n",
       " [],\n",
       " [],\n",
       " ['26 years old'],\n",
       " [],\n",
       " [],\n",
       " [],\n",
       " [],\n",
       " [],\n",
       " [],\n",
       " [],\n",
       " [],\n",
       " [],\n",
       " [],\n",
       " [],\n",
       " [],\n",
       " [],\n",
       " [],\n",
       " [],\n",
       " [],\n",
       " [],\n",
       " [],\n",
       " [],\n",
       " [],\n",
       " [],\n",
       " [],\n",
       " [],\n",
       " [],\n",
       " [],\n",
       " [],\n",
       " [],\n",
       " [],\n",
       " [],\n",
       " [],\n",
       " [],\n",
       " [],\n",
       " [],\n",
       " [],\n",
       " [],\n",
       " [],\n",
       " [],\n",
       " [],\n",
       " [],\n",
       " [],\n",
       " [],\n",
       " [],\n",
       " [],\n",
       " [],\n",
       " [],\n",
       " [],\n",
       " [],\n",
       " [],\n",
       " [],\n",
       " [],\n",
       " [],\n",
       " [],\n",
       " [],\n",
       " [],\n",
       " [],\n",
       " [],\n",
       " [],\n",
       " [],\n",
       " [],\n",
       " [],\n",
       " [],\n",
       " [],\n",
       " [],\n",
       " [],\n",
       " [],\n",
       " [],\n",
       " [],\n",
       " [],\n",
       " [],\n",
       " [],\n",
       " [],\n",
       " [],\n",
       " [],\n",
       " [],\n",
       " [],\n",
       " [],\n",
       " [],\n",
       " [],\n",
       " [],\n",
       " [],\n",
       " [],\n",
       " [],\n",
       " [],\n",
       " [],\n",
       " [],\n",
       " [],\n",
       " [],\n",
       " [],\n",
       " [],\n",
       " [],\n",
       " [],\n",
       " [],\n",
       " [],\n",
       " [],\n",
       " [],\n",
       " [],\n",
       " [],\n",
       " [],\n",
       " [],\n",
       " [],\n",
       " [],\n",
       " ['26 years old'],\n",
       " [],\n",
       " [],\n",
       " [],\n",
       " [],\n",
       " [],\n",
       " [],\n",
       " [],\n",
       " [],\n",
       " [],\n",
       " [],\n",
       " [],\n",
       " [],\n",
       " [],\n",
       " [],\n",
       " [],\n",
       " [],\n",
       " [],\n",
       " [],\n",
       " [],\n",
       " [],\n",
       " [],\n",
       " [],\n",
       " [],\n",
       " [],\n",
       " [],\n",
       " [],\n",
       " [],\n",
       " [],\n",
       " 'Drake, BIRTHDAY\\nOctober 24, 1986',\n",
       " 'Ed Sheeran, BIRTHDAY\\nFebruary 17, 1991',\n",
       " 'Juice WRLD, BIRTHDAY\\nDecember 2, 1998',\n",
       " 'Post Malone, BIRTHDAY\\nJuly 4, 1995',\n",
       " 'Ella Mai, BIRTHDAY\\nNovember 3, 1994',\n",
       " 'Dua Lipa, BIRTHDAY\\nAugust 22, 1995',\n",
       " 'XXXTENTACION, BIRTHDAY\\nJanuary 23, 1998',\n",
       " 'Camila Cabello, BIRTHDAY\\nMarch 3, 1997',\n",
       " 'Ariana Grande, BIRTHDAY\\nJune 26, 1993',\n",
       " 'Bazzi, BIRTHDAY\\nAugust 28, 1997',\n",
       " 'Imagine Dragons, ',\n",
       " 'Taylor Swift, BIRTHDAY\\nDecember 13, 1989',\n",
       " 'Halsey, BIRTHDAY\\nSeptember 29, 1994',\n",
       " 'NF, BIRTHDAY\\nMarch 30, 1991',\n",
       " 'Dan + Shay, ',\n",
       " 'Portugal. The Man, ',\n",
       " 'Lauv, HAPPY BIRTHDAY!\\nAugust 8, 1994',\n",
       " '5 Seconds Of Summer, ',\n",
       " 'Selena Gomez, BIRTHDAY\\nJuly 22, 1992',\n",
       " 'Travis Scott, BIRTHDAY\\nApril 30, 1991',\n",
       " 'Lil Pump, BIRTHDAY\\nAugust 17, 2000',\n",
       " 'Shawn Mendes, BIRTHDAY\\nAugust 8, 1998',\n",
       " 'Migos, ',\n",
       " 'Sam Smith, BIRTHDAY\\nMay 19, 1992',\n",
       " 'Childish Gambino, BIRTHDAY\\nSeptember 25, 1983',\n",
       " 'Kane Brown, BIRTHDAY\\nOctober 21, 1993',\n",
       " 'Cardi B, BIRTHDAY\\nOctober 11, 1992',\n",
       " '6ix9ine, BIRTHDAY\\nMay 8, 1996',\n",
       " 'Rich The Kid, BIRTHDAY\\nJuly 13, 1992',\n",
       " 'Maroon 5, ',\n",
       " 'Demi Lovato, BIRTHDAY\\nAugust 20, 1992',\n",
       " 'Charlie Puth, BIRTHDAY\\nDecember 2, 1991',\n",
       " 'Khalid, Null',\n",
       " 'Jason Aldean, BIRTHDAY\\nFebruary 28, 1977',\n",
       " 'Thomas Rhett, BIRTHDAY\\nMarch 30, 1990',\n",
       " 'The Weeknd, BIRTHDAY\\nFebruary 16, 1990',\n",
       " 'Florida Georgia Line, ',\n",
       " 'Kenny Chesney, BIRTHDAY\\nMarch 26, 1968',\n",
       " 'YoungBoy Never Broke Again, BIRTHDAY\\nOctober 20, 1999',\n",
       " 'Daddy Yankee, BIRTHDAY\\nFebruary 3, 1977',\n",
       " 'Brett Young, BIRTHDAY\\nMarch 23, 1981',\n",
       " 'Luke Combs, BIRTHDAY\\nMarch 2, 1990',\n",
       " 'Bebe Rexha, BIRTHDAY\\nAugust 30, 1989',\n",
       " 'Young Thug, BIRTHDAY\\nAugust 16, 1991',\n",
       " '21 Savage, BIRTHDAY\\nOctober 22, 1992',\n",
       " 'Ty Dolla $ign, BIRTHDAY\\nApril 13, 1985',\n",
       " 'Bad Bunny, BIRTHDAY\\nMarch 10, 1994',\n",
       " 'J Balvin, BIRTHDAY\\nMay 7, 1985',\n",
       " 'Zedd, BIRTHDAY\\nSeptember 2, 1989',\n",
       " 'Maren Morris, BIRTHDAY\\nApril 10, 1990',\n",
       " 'Grey, Null',\n",
       " 'Bruno Mars, BIRTHDAY\\nOctober 8, 1985',\n",
       " 'Normani, BIRTHDAY\\nMay 31, 1996',\n",
       " 'BlocBoy JB, BIRTHDAY\\nMay 19, 1996',\n",
       " 'Lil Baby, BIRTHDAY\\nDecember 3, 1994',\n",
       " 'Marshmello, BIRTHDAY\\nMay 19, 1992',\n",
       " 'Anne-Marie, Null',\n",
       " 'Tyga, BIRTHDAY\\nNovember 19, 1989',\n",
       " 'Offset, BIRTHDAY\\nDecember 14, 1991',\n",
       " 'G-Eazy, BIRTHDAY\\nMay 24, 1989',\n",
       " 'A$AP Rocky, BIRTHDAY\\nOctober 3, 1988',\n",
       " 'Nicki Minaj, BIRTHDAY\\nDecember 8, 1982',\n",
       " 'Murda Beatz, BIRTHDAY\\nFebruary 11, 1994',\n",
       " 'Metro Boomin, BIRTHDAY\\nSeptember 16, 1993',\n",
       " 'Kendrick Lamar, BIRTHDAY\\nJune 17, 1987',\n",
       " 'SZA, BIRTHDAY\\nNovember 8, 1990',\n",
       " 'Zacari, BIRTHDAY\\nApril 8, 1996',\n",
       " 'Lil Dicky, BIRTHDAY\\nMarch 15, 1988',\n",
       " 'Chris Brown, BIRTHDAY\\nMay 5, 1989',\n",
       " 'YG, BIRTHDAY\\nMarch 9, 1990',\n",
       " '2 Chainz, BIRTHDAY\\nSeptember 12, 1977',\n",
       " 'Big Sean, BIRTHDAY\\nMarch 25, 1988',\n",
       " 'MAX, Null',\n",
       " 'gnash, BIRTHDAY\\nJune 16, 1993',\n",
       " 'Calvin Harris, BIRTHDAY\\nJanuary 17, 1984',\n",
       " 'Gucci Mane, BIRTHDAY\\nFebruary 12, 1980',\n",
       " 'DJ Khaled, BIRTHDAY\\nNovember 26, 1975',\n",
       " 'Justin Bieber, BIRTHDAY\\nMarch 1, 1994',\n",
       " 'Chance The Rapper, BIRTHDAY\\nApril 16, 1993',\n",
       " 'Quavo, BIRTHDAY\\nApril 2, 1991',\n",
       " 'A$AP Ferg, BIRTHDAY\\nOctober 20, 1988',\n",
       " 'Miguel, Null',\n",
       " 'benny blanco, BIRTHDAY\\nMarch 8, 1988',\n",
       " 'Jay Rock, BIRTHDAY\\nMarch 31, 1986',\n",
       " 'Future, BIRTHDAY\\nNovember 20, 1983',\n",
       " 'James Blake, BIRTHDAY\\nDecember 28, 1979',\n",
       " 'Bastille, ',\n",
       " 'Casper Magico, BIRTHDAY\\nJune 21, 1989',\n",
       " 'Nio Garcia, BIRTHDAY\\nApril 3, 1989',\n",
       " 'Darell, Null',\n",
       " 'Nicky Jam, BIRTHDAY\\nMarch 17, 1981',\n",
       " 'Ozuna, Null',\n",
       " 'N*E*R*D, Null',\n",
       " 'Rihanna, BIRTHDAY\\nFebruary 20, 1988',\n",
       " 'Logic, BIRTHDAY\\nJanuary 22, 1990',\n",
       " 'Alessia Cara, BIRTHDAY\\nJuly 11, 1996',\n",
       " 'Justin Timberlake, BIRTHDAY\\nJanuary 31, 1981',\n",
       " 'Chris Stapleton, BIRTHDAY\\nApril 15, 1978',\n",
       " 'Rae Sremmurd, ',\n",
       " 'Juicy J, BIRTHDAY\\nApril 5, 1975',\n",
       " 'Willy William, BIRTHDAY\\nApril 14, 1981',\n",
       " 'Beyonce, BIRTHDAY\\nSeptember 4, 1981']"
      ]
     },
     "execution_count": 130,
     "metadata": {},
     "output_type": "execute_result"
    }
   ],
   "source": [
    "ages"
   ]
  },
  {
   "cell_type": "code",
   "execution_count": 362,
   "metadata": {},
   "outputs": [],
   "source": [
    "b_dates_df = pd.DataFrame({'artists':artists, 'b_dates':b_dates_only_dates})"
   ]
  },
  {
   "cell_type": "code",
   "execution_count": 363,
   "metadata": {
    "scrolled": true
   },
   "outputs": [
    {
     "data": {
      "text/html": [
       "<div>\n",
       "<style scoped>\n",
       "    .dataframe tbody tr th:only-of-type {\n",
       "        vertical-align: middle;\n",
       "    }\n",
       "\n",
       "    .dataframe tbody tr th {\n",
       "        vertical-align: top;\n",
       "    }\n",
       "\n",
       "    .dataframe thead th {\n",
       "        text-align: right;\n",
       "    }\n",
       "</style>\n",
       "<table border=\"1\" class=\"dataframe\">\n",
       "  <thead>\n",
       "    <tr style=\"text-align: right;\">\n",
       "      <th></th>\n",
       "      <th>artists</th>\n",
       "      <th>b_dates</th>\n",
       "    </tr>\n",
       "  </thead>\n",
       "  <tbody>\n",
       "    <tr>\n",
       "      <th>0</th>\n",
       "      <td>Drake</td>\n",
       "      <td>October 24, 1986</td>\n",
       "    </tr>\n",
       "    <tr>\n",
       "      <th>1</th>\n",
       "      <td>Ed Sheeran</td>\n",
       "      <td>February 17, 1991</td>\n",
       "    </tr>\n",
       "    <tr>\n",
       "      <th>2</th>\n",
       "      <td>Juice WRLD</td>\n",
       "      <td>December 2, 1998</td>\n",
       "    </tr>\n",
       "    <tr>\n",
       "      <th>3</th>\n",
       "      <td>Post Malone</td>\n",
       "      <td>July 4, 1995</td>\n",
       "    </tr>\n",
       "    <tr>\n",
       "      <th>4</th>\n",
       "      <td>Ella Mai</td>\n",
       "      <td>November 3, 1994</td>\n",
       "    </tr>\n",
       "  </tbody>\n",
       "</table>\n",
       "</div>"
      ],
      "text/plain": [
       "       artists            b_dates\n",
       "0        Drake   October 24, 1986\n",
       "1   Ed Sheeran  February 17, 1991\n",
       "2   Juice WRLD   December 2, 1998\n",
       "3  Post Malone       July 4, 1995\n",
       "4     Ella Mai   November 3, 1994"
      ]
     },
     "execution_count": 363,
     "metadata": {},
     "output_type": "execute_result"
    }
   ],
   "source": [
    "b_dates_df.head()"
   ]
  },
  {
   "cell_type": "code",
   "execution_count": 364,
   "metadata": {},
   "outputs": [],
   "source": [
    "b_dates_df['ages'] = ages"
   ]
  },
  {
   "cell_type": "code",
   "execution_count": 366,
   "metadata": {},
   "outputs": [
    {
     "data": {
      "text/html": [
       "<div>\n",
       "<style scoped>\n",
       "    .dataframe tbody tr th:only-of-type {\n",
       "        vertical-align: middle;\n",
       "    }\n",
       "\n",
       "    .dataframe tbody tr th {\n",
       "        vertical-align: top;\n",
       "    }\n",
       "\n",
       "    .dataframe thead th {\n",
       "        text-align: right;\n",
       "    }\n",
       "</style>\n",
       "<table border=\"1\" class=\"dataframe\">\n",
       "  <thead>\n",
       "    <tr style=\"text-align: right;\">\n",
       "      <th></th>\n",
       "      <th>artists</th>\n",
       "      <th>b_dates</th>\n",
       "      <th>ages</th>\n",
       "    </tr>\n",
       "  </thead>\n",
       "  <tbody>\n",
       "    <tr>\n",
       "      <th>0</th>\n",
       "      <td>Drake</td>\n",
       "      <td>October 24, 1986</td>\n",
       "      <td>32</td>\n",
       "    </tr>\n",
       "    <tr>\n",
       "      <th>1</th>\n",
       "      <td>Ed Sheeran</td>\n",
       "      <td>February 17, 1991</td>\n",
       "      <td>28</td>\n",
       "    </tr>\n",
       "    <tr>\n",
       "      <th>2</th>\n",
       "      <td>Juice WRLD</td>\n",
       "      <td>December 2, 1998</td>\n",
       "      <td>20</td>\n",
       "    </tr>\n",
       "    <tr>\n",
       "      <th>3</th>\n",
       "      <td>Post Malone</td>\n",
       "      <td>July 4, 1995</td>\n",
       "      <td>24</td>\n",
       "    </tr>\n",
       "    <tr>\n",
       "      <th>4</th>\n",
       "      <td>Ella Mai</td>\n",
       "      <td>November 3, 1994</td>\n",
       "      <td>24</td>\n",
       "    </tr>\n",
       "  </tbody>\n",
       "</table>\n",
       "</div>"
      ],
      "text/plain": [
       "       artists            b_dates ages\n",
       "0        Drake   October 24, 1986   32\n",
       "1   Ed Sheeran  February 17, 1991   28\n",
       "2   Juice WRLD   December 2, 1998   20\n",
       "3  Post Malone       July 4, 1995   24\n",
       "4     Ella Mai   November 3, 1994   24"
      ]
     },
     "execution_count": 366,
     "metadata": {},
     "output_type": "execute_result"
    }
   ],
   "source": [
    "b_dates_df.head()"
   ]
  },
  {
   "cell_type": "code",
   "execution_count": null,
   "metadata": {},
   "outputs": [],
   "source": [
    "b_dates_df.dtypes"
   ]
  },
  {
   "cell_type": "code",
   "execution_count": 367,
   "metadata": {},
   "outputs": [],
   "source": [
    "b_dates_df.to_csv('b_dates.csv', index=False)"
   ]
  },
  {
   "cell_type": "code",
   "execution_count": 374,
   "metadata": {},
   "outputs": [],
   "source": [
    "b_dates_null = b_dates_df.loc[b_dates_df['ages'] == 'null']"
   ]
  },
  {
   "cell_type": "code",
   "execution_count": 388,
   "metadata": {},
   "outputs": [],
   "source": [
    "b_dates_null = df_band"
   ]
  },
  {
   "cell_type": "code",
   "execution_count": 390,
   "metadata": {
    "scrolled": true
   },
   "outputs": [
    {
     "data": {
      "text/html": [
       "<div>\n",
       "<style scoped>\n",
       "    .dataframe tbody tr th:only-of-type {\n",
       "        vertical-align: middle;\n",
       "    }\n",
       "\n",
       "    .dataframe tbody tr th {\n",
       "        vertical-align: top;\n",
       "    }\n",
       "\n",
       "    .dataframe thead th {\n",
       "        text-align: right;\n",
       "    }\n",
       "</style>\n",
       "<table border=\"1\" class=\"dataframe\">\n",
       "  <thead>\n",
       "    <tr style=\"text-align: right;\">\n",
       "      <th></th>\n",
       "      <th>artists</th>\n",
       "      <th>b_dates</th>\n",
       "      <th>ages</th>\n",
       "    </tr>\n",
       "  </thead>\n",
       "  <tbody>\n",
       "    <tr>\n",
       "      <th>10</th>\n",
       "      <td>Imagine Dragons</td>\n",
       "      <td>nan</td>\n",
       "      <td>null</td>\n",
       "    </tr>\n",
       "    <tr>\n",
       "      <th>14</th>\n",
       "      <td>Dan + Shay</td>\n",
       "      <td>nan</td>\n",
       "      <td>null</td>\n",
       "    </tr>\n",
       "    <tr>\n",
       "      <th>15</th>\n",
       "      <td>Portugal. The Man</td>\n",
       "      <td>nan</td>\n",
       "      <td>null</td>\n",
       "    </tr>\n",
       "    <tr>\n",
       "      <th>17</th>\n",
       "      <td>5 Seconds Of Summer</td>\n",
       "      <td>nan</td>\n",
       "      <td>null</td>\n",
       "    </tr>\n",
       "    <tr>\n",
       "      <th>22</th>\n",
       "      <td>Migos</td>\n",
       "      <td>nan</td>\n",
       "      <td>null</td>\n",
       "    </tr>\n",
       "    <tr>\n",
       "      <th>29</th>\n",
       "      <td>Maroon 5</td>\n",
       "      <td>nan</td>\n",
       "      <td>null</td>\n",
       "    </tr>\n",
       "    <tr>\n",
       "      <th>36</th>\n",
       "      <td>Florida Georgia Line</td>\n",
       "      <td>nan</td>\n",
       "      <td>null</td>\n",
       "    </tr>\n",
       "    <tr>\n",
       "      <th>50</th>\n",
       "      <td>Grey</td>\n",
       "      <td>Null</td>\n",
       "      <td>null</td>\n",
       "    </tr>\n",
       "    <tr>\n",
       "      <th>72</th>\n",
       "      <td>MAX</td>\n",
       "      <td>Null</td>\n",
       "      <td>null</td>\n",
       "    </tr>\n",
       "    <tr>\n",
       "      <th>86</th>\n",
       "      <td>Bastille</td>\n",
       "      <td>nan</td>\n",
       "      <td>null</td>\n",
       "    </tr>\n",
       "    <tr>\n",
       "      <th>92</th>\n",
       "      <td>N*E*R*D</td>\n",
       "      <td>Null</td>\n",
       "      <td>null</td>\n",
       "    </tr>\n",
       "    <tr>\n",
       "      <th>98</th>\n",
       "      <td>Rae Sremmurd</td>\n",
       "      <td>nan</td>\n",
       "      <td>null</td>\n",
       "    </tr>\n",
       "  </tbody>\n",
       "</table>\n",
       "</div>"
      ],
      "text/plain": [
       "                 artists b_dates  ages\n",
       "10       Imagine Dragons     nan  null\n",
       "14            Dan + Shay     nan  null\n",
       "15     Portugal. The Man     nan  null\n",
       "17   5 Seconds Of Summer     nan  null\n",
       "22                 Migos     nan  null\n",
       "29              Maroon 5     nan  null\n",
       "36  Florida Georgia Line     nan  null\n",
       "50                  Grey    Null  null\n",
       "72                   MAX    Null  null\n",
       "86              Bastille     nan  null\n",
       "92               N*E*R*D    Null  null\n",
       "98          Rae Sremmurd     nan  null"
      ]
     },
     "execution_count": 390,
     "metadata": {},
     "output_type": "execute_result"
    }
   ],
   "source": [
    "df_band"
   ]
  }
 ],
 "metadata": {
  "kernelspec": {
   "display_name": "Python 3",
   "language": "python",
   "name": "python3"
  },
  "language_info": {
   "codemirror_mode": {
    "name": "ipython",
    "version": 3
   },
   "file_extension": ".py",
   "mimetype": "text/x-python",
   "name": "python",
   "nbconvert_exporter": "python",
   "pygments_lexer": "ipython3",
   "version": "3.6.5"
  }
 },
 "nbformat": 4,
 "nbformat_minor": 2
}
