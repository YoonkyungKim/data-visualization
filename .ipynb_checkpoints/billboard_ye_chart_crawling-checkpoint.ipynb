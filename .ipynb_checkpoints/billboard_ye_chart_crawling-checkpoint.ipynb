{
 "cells": [
  {
   "cell_type": "code",
   "execution_count": 65,
   "metadata": {},
   "outputs": [],
   "source": [
    "from lxml import html\n",
    "import requests"
   ]
  },
  {
   "cell_type": "code",
   "execution_count": 66,
   "metadata": {},
   "outputs": [],
   "source": [
    "page = requests.get(\"https://www.billboard.com/charts/year-end/2018/hot-100-songs\")\n",
    "content = html.fromstring(page.content)"
   ]
  },
  {
   "cell_type": "code",
   "execution_count": 67,
   "metadata": {},
   "outputs": [],
   "source": [
    "artists_a = content.xpath('//div[@class=\"ye-chart-item__artist\"]/a/text()')"
   ]
  },
  {
   "cell_type": "code",
   "execution_count": 68,
   "metadata": {},
   "outputs": [],
   "source": [
    "artists_a = content.xpath('//div[@class=\"ye-chart-item__artist\"]/a/text()')"
   ]
  },
  {
   "cell_type": "code",
   "execution_count": 69,
   "metadata": {},
   "outputs": [
    {
     "data": {
      "text/plain": [
       "54"
      ]
     },
     "execution_count": 69,
     "metadata": {},
     "output_type": "execute_result"
    }
   ],
   "source": [
    "len(artists_a)"
   ]
  },
  {
   "cell_type": "code",
   "execution_count": 70,
   "metadata": {},
   "outputs": [],
   "source": [
    "artists_without_a = content.xpath('//div[@class=\"ye-chart-item__artist\"]/text()')"
   ]
  },
  {
   "cell_type": "code",
   "execution_count": 71,
   "metadata": {},
   "outputs": [
    {
     "data": {
      "text/plain": [
       "154"
      ]
     },
     "execution_count": 71,
     "metadata": {},
     "output_type": "execute_result"
    }
   ],
   "source": [
    "len(artists_without_a)"
   ]
  },
  {
   "cell_type": "code",
   "execution_count": 72,
   "metadata": {},
   "outputs": [],
   "source": [
    "artists_without_a = [x for x in artists_without_a if x != '\\n']"
   ]
  },
  {
   "cell_type": "code",
   "execution_count": 73,
   "metadata": {},
   "outputs": [
    {
     "data": {
      "text/plain": [
       "['\\nBebe Rexha & Florida Georgia Line\\n',\n",
       " '\\nCamila Cabello Featuring Young Thug\\n',\n",
       " '\\nPost Malone Featuring 21 Savage\\n',\n",
       " '\\nPost Malone Featuring Ty Dolla $ign\\n',\n",
       " '\\nCardi B, Bad Bunny & J Balvin\\n',\n",
       " '\\nZedd, Maren Morris & Grey\\n',\n",
       " '\\nMaroon 5 Featuring Cardi B\\n',\n",
       " '\\nJuice WRLD\\n',\n",
       " '\\nBruno Mars & Cardi B\\n',\n",
       " '\\nKhalid & Normani\\n']"
      ]
     },
     "execution_count": 73,
     "metadata": {},
     "output_type": "execute_result"
    }
   ],
   "source": [
    "artists_without_a[:10]"
   ]
  },
  {
   "cell_type": "code",
   "execution_count": 74,
   "metadata": {},
   "outputs": [],
   "source": [
    "artists_without_a = [i.replace('\\n','') for i in artists_without_a]"
   ]
  },
  {
   "cell_type": "code",
   "execution_count": 76,
   "metadata": {},
   "outputs": [
    {
     "data": {
      "text/plain": [
       "['Bebe Rexha & Florida Georgia Line',\n",
       " 'Camila Cabello Featuring Young Thug',\n",
       " 'Post Malone Featuring 21 Savage',\n",
       " 'Post Malone Featuring Ty Dolla $ign',\n",
       " 'Cardi B, Bad Bunny & J Balvin',\n",
       " 'Zedd, Maren Morris & Grey',\n",
       " 'Maroon 5 Featuring Cardi B',\n",
       " 'Juice WRLD',\n",
       " 'Bruno Mars & Cardi B',\n",
       " 'Khalid & Normani']"
      ]
     },
     "execution_count": 76,
     "metadata": {},
     "output_type": "execute_result"
    }
   ],
   "source": [
    "artists_without_a[:10]"
   ]
  },
  {
   "cell_type": "code",
   "execution_count": 192,
   "metadata": {},
   "outputs": [
    {
     "data": {
      "text/plain": [
       "46"
      ]
     },
     "execution_count": 192,
     "metadata": {},
     "output_type": "execute_result"
    }
   ],
   "source": [
    "len(artists_without_a)"
   ]
  },
  {
   "cell_type": "code",
   "execution_count": 193,
   "metadata": {},
   "outputs": [],
   "source": [
    "artists = artists_a + artists_without_a"
   ]
  },
  {
   "cell_type": "code",
   "execution_count": 194,
   "metadata": {},
   "outputs": [
    {
     "data": {
      "text/plain": [
       "100"
      ]
     },
     "execution_count": 194,
     "metadata": {},
     "output_type": "execute_result"
    }
   ],
   "source": [
    "len(artists)"
   ]
  },
  {
   "cell_type": "code",
   "execution_count": 195,
   "metadata": {},
   "outputs": [],
   "source": [
    "artists = [i.replace('\\n','') for i in artists]"
   ]
  },
  {
   "cell_type": "code",
   "execution_count": 196,
   "metadata": {},
   "outputs": [
    {
     "data": {
      "text/plain": [
       "['Drake',\n",
       " 'Ed Sheeran',\n",
       " 'Drake',\n",
       " 'Drake',\n",
       " 'Post Malone',\n",
       " 'Ella Mai',\n",
       " 'Dua Lipa',\n",
       " 'XXXTENTACION',\n",
       " 'Camila Cabello',\n",
       " 'Ariana Grande',\n",
       " 'Imagine Dragons',\n",
       " 'Taylor Swift',\n",
       " 'Halsey',\n",
       " 'NF',\n",
       " 'Dan + Shay',\n",
       " 'Portugal. The Man',\n",
       " 'Lauv',\n",
       " '5 Seconds Of Summer',\n",
       " 'Imagine Dragons',\n",
       " 'Post Malone',\n",
       " 'Selena Gomez',\n",
       " 'Travis Scott',\n",
       " 'Lil Pump',\n",
       " 'Shawn Mendes',\n",
       " 'Migos',\n",
       " 'Sam Smith',\n",
       " 'Childish Gambino',\n",
       " 'Drake',\n",
       " 'Kane Brown',\n",
       " 'Cardi B',\n",
       " 'Rich The Kid',\n",
       " 'Maroon 5',\n",
       " 'Cardi B',\n",
       " 'Ariana Grande',\n",
       " 'Demi Lovato',\n",
       " 'Charlie Puth',\n",
       " 'Khalid',\n",
       " 'Imagine Dragons',\n",
       " 'Jason Aldean',\n",
       " 'Ed Sheeran',\n",
       " 'Thomas Rhett',\n",
       " 'The Weeknd',\n",
       " 'Florida Georgia Line',\n",
       " 'Drake',\n",
       " 'Kenny Chesney',\n",
       " 'XXXTENTACION',\n",
       " 'YoungBoy Never Broke Again',\n",
       " 'Ella Mai',\n",
       " 'Daddy Yankee',\n",
       " 'XXXTENTACION',\n",
       " 'Brett Young',\n",
       " 'Luke Combs',\n",
       " 'Dua Lipa',\n",
       " 'Imagine Dragons',\n",
       " 'Bebe Rexha & Florida Georgia Line',\n",
       " 'Camila Cabello Featuring Young Thug',\n",
       " 'Post Malone Featuring 21 Savage',\n",
       " 'Post Malone Featuring Ty Dolla $ign',\n",
       " 'Cardi B, Bad Bunny & J Balvin',\n",
       " 'Zedd, Maren Morris & Grey',\n",
       " 'Maroon 5 Featuring Cardi B',\n",
       " 'Juice WRLD',\n",
       " 'Bruno Mars & Cardi B',\n",
       " 'Khalid & Normani',\n",
       " 'Bazzi',\n",
       " 'BlocBoy JB Featuring Drake',\n",
       " 'Lil Baby & Drake',\n",
       " 'Marshmello & Anne-Marie',\n",
       " 'Tyga Featuring Offset',\n",
       " 'G-Eazy Featuring A$AP Rocky & Cardi B',\n",
       " '6ix9ine Featuring Nicki Minaj & Murda Beatz',\n",
       " 'Migos, Nicki Minaj & Cardi B',\n",
       " 'Offset & Metro Boomin',\n",
       " 'The Weeknd & Kendrick Lamar',\n",
       " 'Migos Featuring Drake',\n",
       " 'G-Eazy & Halsey',\n",
       " 'Kendrick Lamar & SZA',\n",
       " 'Kendrick Lamar Featuring Zacari',\n",
       " 'Lil Dicky Featuring Chris Brown',\n",
       " '6ix9ine',\n",
       " 'Selena Gomez X Marshmello',\n",
       " 'Cardi B Featuring 21 Savage',\n",
       " 'YG Featuring 2 Chainz, Big Sean & Nicki Minaj',\n",
       " 'MAX Featuring gnash',\n",
       " 'Calvin Harris & Dua Lipa',\n",
       " 'Gucci Mane Featuring Migos',\n",
       " 'DJ Khaled Featuring Justin Bieber, Chance The Rapper & Quavo',\n",
       " 'A$AP Ferg Featuring Nicki Minaj',\n",
       " 'Miguel Featuring Travis Scott',\n",
       " 'benny blanco, Halsey & Khalid',\n",
       " 'Jay Rock, Kendrick Lamar, Future & James Blake',\n",
       " 'Marshmello & Bastille',\n",
       " 'Casper Magico, Nio Garcia, Darell, Nicky Jam, Ozuna & Bad Bunny',\n",
       " 'N*E*R*D & Rihanna',\n",
       " 'Logic Featuring Alessia Cara & Khalid',\n",
       " 'Justin Timberlake Featuring Chris Stapleton',\n",
       " 'Maroon 5 Featuring SZA',\n",
       " 'Nicky Jam x J Balvin',\n",
       " 'Rae Sremmurd & Juicy J',\n",
       " 'J Balvin & Willy William Featuring Beyonce']"
      ]
     },
     "execution_count": 196,
     "metadata": {},
     "output_type": "execute_result"
    }
   ],
   "source": [
    "artists"
   ]
  },
  {
   "cell_type": "code",
   "execution_count": 1,
   "metadata": {},
   "outputs": [],
   "source": [
    "# use selenium to collect data in rank order\n",
    "from selenium import webdriver\n",
    "from selenium.common.exceptions import NoSuchElementException"
   ]
  },
  {
   "cell_type": "code",
   "execution_count": 3,
   "metadata": {},
   "outputs": [],
   "source": [
    "path=r'../shoppingmall/chromedriver'\n",
    "driver=webdriver.Chrome(path)\n",
    "driver.get(\"https://www.billboard.com/charts/year-end/2018/hot-100-songs\")"
   ]
  },
  {
   "cell_type": "code",
   "execution_count": 24,
   "metadata": {},
   "outputs": [],
   "source": [
    "artists = []"
   ]
  },
  {
   "cell_type": "code",
   "execution_count": 25,
   "metadata": {},
   "outputs": [],
   "source": [
    "artist = driver.find_elements_by_xpath('//div[@class=\"ye-chart-item__artist\"]')\n",
    "for e in artist:\n",
    "    artists.append(e.text)\n",
    "    "
   ]
  },
  {
   "cell_type": "code",
   "execution_count": 26,
   "metadata": {},
   "outputs": [
    {
     "data": {
      "text/plain": [
       "100"
      ]
     },
     "execution_count": 26,
     "metadata": {},
     "output_type": "execute_result"
    }
   ],
   "source": [
    "len(artists)"
   ]
  },
  {
   "cell_type": "code",
   "execution_count": 63,
   "metadata": {},
   "outputs": [
    {
     "data": {
      "text/plain": [
       "['Drake',\n",
       " 'Ed Sheeran',\n",
       " 'Bebe Rexha & Florida Georgia Line',\n",
       " 'Camila Cabello Featuring Young Thug',\n",
       " 'Post Malone Featuring 21 Savage',\n",
       " 'Post Malone Featuring Ty Dolla $ign',\n",
       " 'Cardi B, Bad Bunny & J Balvin',\n",
       " 'Zedd, Maren Morris & Grey',\n",
       " 'Drake',\n",
       " 'Maroon 5 Featuring Cardi B']"
      ]
     },
     "execution_count": 63,
     "metadata": {},
     "output_type": "execute_result"
    }
   ],
   "source": [
    "artists[:10]"
   ]
  },
  {
   "cell_type": "code",
   "execution_count": 8,
   "metadata": {},
   "outputs": [],
   "source": [
    "from datetime import datetime"
   ]
  },
  {
   "cell_type": "code",
   "execution_count": 56,
   "metadata": {},
   "outputs": [],
   "source": [
    "def age(my_date):\n",
    "\n",
    "    b_date = datetime.strptime(my_date, '%m/%d/%Y')\n",
    "    print(\"Age : %d\" % ((datetime.today() - b_date).days/365))"
   ]
  },
  {
   "cell_type": "code",
   "execution_count": 57,
   "metadata": {},
   "outputs": [
    {
     "name": "stdout",
     "output_type": "stream",
     "text": [
      "Age : 36\n"
     ]
    }
   ],
   "source": [
    "age('11/25/1982')"
   ]
  },
  {
   "cell_type": "code",
   "execution_count": 28,
   "metadata": {},
   "outputs": [],
   "source": [
    "# collaboration (duo or featuring)\n",
    "matchers = ['&', 'Featuring', ' x ', ' X ']\n",
    "matching = [f for f in artists if any(e in f for e in matchers)]"
   ]
  },
  {
   "cell_type": "code",
   "execution_count": 62,
   "metadata": {
    "scrolled": true
   },
   "outputs": [
    {
     "data": {
      "text/plain": [
       "['Bebe Rexha & Florida Georgia Line',\n",
       " 'Camila Cabello & Young Thug',\n",
       " 'Post Malone & 21 Savage',\n",
       " 'Post Malone & Ty Dolla $ign',\n",
       " 'Cardi B&Bad Bunny & J Balvin',\n",
       " 'Zedd&Maren Morris & Grey',\n",
       " 'Maroon 5 & Cardi B',\n",
       " 'Bruno Mars & Cardi B',\n",
       " 'Khalid & Normani',\n",
       " 'BlocBoy JB & Drake']"
      ]
     },
     "execution_count": 62,
     "metadata": {},
     "output_type": "execute_result"
    }
   ],
   "source": [
    "matching[:10]"
   ]
  },
  {
   "cell_type": "code",
   "execution_count": 44,
   "metadata": {},
   "outputs": [],
   "source": [
    "matching = [i.replace(' x ', '&') for i in matching]\n",
    "matching = [i.replace(' X ', '&') for i in matching]\n",
    "matching = [i.replace(', ', '&') for i in matching]\n",
    "matching = [i.replace('Featuring', '&') for i in matching]"
   ]
  },
  {
   "cell_type": "code",
   "execution_count": 45,
   "metadata": {},
   "outputs": [
    {
     "data": {
      "text/plain": [
       "['Bebe Rexha & Florida Georgia Line',\n",
       " 'Camila Cabello & Young Thug',\n",
       " 'Post Malone & 21 Savage',\n",
       " 'Post Malone & Ty Dolla $ign',\n",
       " 'Cardi B&Bad Bunny & J Balvin',\n",
       " 'Zedd&Maren Morris & Grey',\n",
       " 'Maroon 5 & Cardi B',\n",
       " 'Bruno Mars & Cardi B',\n",
       " 'Khalid & Normani',\n",
       " 'BlocBoy JB & Drake',\n",
       " 'Lil Baby & Drake',\n",
       " 'Marshmello & Anne-Marie',\n",
       " 'Tyga & Offset',\n",
       " 'G-Eazy & A$AP Rocky & Cardi B',\n",
       " '6ix9ine & Nicki Minaj & Murda Beatz',\n",
       " 'Migos&Nicki Minaj & Cardi B',\n",
       " 'Offset & Metro Boomin',\n",
       " 'The Weeknd & Kendrick Lamar',\n",
       " 'Migos & Drake',\n",
       " 'G-Eazy & Halsey',\n",
       " 'Kendrick Lamar & SZA',\n",
       " 'Kendrick Lamar & Zacari',\n",
       " 'Lil Dicky & Chris Brown',\n",
       " 'Selena Gomez&Marshmello',\n",
       " 'Cardi B & 21 Savage',\n",
       " 'YG & 2 Chainz&Big Sean & Nicki Minaj',\n",
       " 'MAX & gnash',\n",
       " 'Calvin Harris & Dua Lipa',\n",
       " 'Gucci Mane & Migos',\n",
       " 'DJ Khaled & Justin Bieber&Chance The Rapper & Quavo',\n",
       " 'A$AP Ferg & Nicki Minaj',\n",
       " 'Miguel & Travis Scott',\n",
       " 'benny blanco&Halsey & Khalid',\n",
       " 'Jay Rock&Kendrick Lamar&Future & James Blake',\n",
       " 'Marshmello & Bastille',\n",
       " 'Casper Magico&Nio Garcia&Darell&Nicky Jam&Ozuna & Bad Bunny',\n",
       " 'N*E*R*D & Rihanna',\n",
       " 'Logic & Alessia Cara & Khalid',\n",
       " 'Justin Timberlake & Chris Stapleton',\n",
       " 'Maroon 5 & SZA',\n",
       " 'Nicky Jam&J Balvin',\n",
       " 'Rae Sremmurd & Juicy J',\n",
       " 'J Balvin & Willy William & Beyonce']"
      ]
     },
     "execution_count": 45,
     "metadata": {},
     "output_type": "execute_result"
    }
   ],
   "source": [
    "matching"
   ]
  },
  {
   "cell_type": "code",
   "execution_count": 61,
   "metadata": {},
   "outputs": [
    {
     "data": {
      "text/plain": [
       "['Bebe Rexha',\n",
       " 'Florida Georgia Line',\n",
       " 'Camila Cabello',\n",
       " 'Young Thug',\n",
       " 'Post Malone',\n",
       " '21 Savage',\n",
       " 'Post Malone',\n",
       " 'Ty Dolla $ign',\n",
       " 'Cardi B',\n",
       " 'Bad Bunny']"
      ]
     },
     "execution_count": 61,
     "metadata": {},
     "output_type": "execute_result"
    }
   ],
   "source": [
    "collab = [word for line in matching for word in line.split(\"&\")]\n",
    "collab = [i.strip() for i in collab]\n",
    "collab[:10]"
   ]
  },
  {
   "cell_type": "code",
   "execution_count": 60,
   "metadata": {},
   "outputs": [
    {
     "data": {
      "text/plain": [
       "['Drake',\n",
       " 'Ed Sheeran',\n",
       " 'Camila Cabello Featuring Young Thug',\n",
       " 'Post Malone Featuring 21 Savage',\n",
       " 'Post Malone Featuring Ty Dolla $ign',\n",
       " 'Cardi B, Bad Bunny & J Balvin',\n",
       " 'Zedd, Maren Morris & Grey',\n",
       " 'Drake',\n",
       " 'Maroon 5 Featuring Cardi B',\n",
       " 'Drake']"
      ]
     },
     "execution_count": 60,
     "metadata": {},
     "output_type": "execute_result"
    }
   ],
   "source": [
    "artists_without_collab = [x for x in artists if x not in matching]\n",
    "artists_without_collab[:10]"
   ]
  },
  {
   "cell_type": "code",
   "execution_count": 48,
   "metadata": {},
   "outputs": [],
   "source": [
    "artists_final = artists_without_collab + collab"
   ]
  },
  {
   "cell_type": "code",
   "execution_count": 49,
   "metadata": {},
   "outputs": [
    {
     "data": {
      "text/plain": [
       "161"
      ]
     },
     "execution_count": 49,
     "metadata": {},
     "output_type": "execute_result"
    }
   ],
   "source": [
    "len(artists_final)"
   ]
  },
  {
   "cell_type": "code",
   "execution_count": 50,
   "metadata": {},
   "outputs": [],
   "source": [
    "import pandas as pd\n",
    "df = pd.DataFrame({'artists':artists_final})"
   ]
  },
  {
   "cell_type": "code",
   "execution_count": 51,
   "metadata": {},
   "outputs": [
    {
     "data": {
      "text/html": [
       "<div>\n",
       "<style scoped>\n",
       "    .dataframe tbody tr th:only-of-type {\n",
       "        vertical-align: middle;\n",
       "    }\n",
       "\n",
       "    .dataframe tbody tr th {\n",
       "        vertical-align: top;\n",
       "    }\n",
       "\n",
       "    .dataframe thead th {\n",
       "        text-align: right;\n",
       "    }\n",
       "</style>\n",
       "<table border=\"1\" class=\"dataframe\">\n",
       "  <thead>\n",
       "    <tr style=\"text-align: right;\">\n",
       "      <th></th>\n",
       "      <th>artists</th>\n",
       "    </tr>\n",
       "  </thead>\n",
       "  <tbody>\n",
       "    <tr>\n",
       "      <th>0</th>\n",
       "      <td>Drake</td>\n",
       "    </tr>\n",
       "    <tr>\n",
       "      <th>1</th>\n",
       "      <td>Ed Sheeran</td>\n",
       "    </tr>\n",
       "    <tr>\n",
       "      <th>2</th>\n",
       "      <td>Drake</td>\n",
       "    </tr>\n",
       "    <tr>\n",
       "      <th>3</th>\n",
       "      <td>Drake</td>\n",
       "    </tr>\n",
       "    <tr>\n",
       "      <th>4</th>\n",
       "      <td>Juice WRLD</td>\n",
       "    </tr>\n",
       "  </tbody>\n",
       "</table>\n",
       "</div>"
      ],
      "text/plain": [
       "      artists\n",
       "0       Drake\n",
       "1  Ed Sheeran\n",
       "2       Drake\n",
       "3       Drake\n",
       "4  Juice WRLD"
      ]
     },
     "execution_count": 51,
     "metadata": {},
     "output_type": "execute_result"
    }
   ],
   "source": [
    "df.head()"
   ]
  },
  {
   "cell_type": "code",
   "execution_count": 55,
   "metadata": {},
   "outputs": [],
   "source": [
    "df.to_csv('artists.csv', index=False)"
   ]
  },
  {
   "cell_type": "code",
   "execution_count": 40,
   "metadata": {},
   "outputs": [
    {
     "data": {
      "text/plain": [
       "['Bebe Rexha & Florida Georgia Line',\n",
       " 'Cardi B, Bad Bunny & J Balvin',\n",
       " 'Zedd, Maren Morris & Grey',\n",
       " 'Bruno Mars & Cardi B',\n",
       " 'Khalid & Normani',\n",
       " 'Lil Baby & Drake',\n",
       " 'Marshmello & Anne-Marie',\n",
       " 'G-Eazy Featuring A$AP Rocky & Cardi B',\n",
       " '6ix9ine Featuring Nicki Minaj & Murda Beatz',\n",
       " 'Migos, Nicki Minaj & Cardi B',\n",
       " 'Offset & Metro Boomin',\n",
       " 'The Weeknd & Kendrick Lamar',\n",
       " 'G-Eazy & Halsey',\n",
       " 'Kendrick Lamar & SZA',\n",
       " 'YG Featuring 2 Chainz, Big Sean & Nicki Minaj',\n",
       " 'Calvin Harris & Dua Lipa',\n",
       " 'DJ Khaled Featuring Justin Bieber, Chance The Rapper & Quavo',\n",
       " 'benny blanco, Halsey & Khalid',\n",
       " 'Jay Rock, Kendrick Lamar, Future & James Blake',\n",
       " 'Marshmello & Bastille',\n",
       " 'Casper Magico, Nio Garcia, Darell, Nicky Jam, Ozuna & Bad Bunny',\n",
       " 'N*E*R*D & Rihanna',\n",
       " 'Logic Featuring Alessia Cara & Khalid',\n",
       " 'Rae Sremmurd & Juicy J',\n",
       " 'J Balvin & Willy William Featuring Beyonce']"
      ]
     },
     "execution_count": 40,
     "metadata": {},
     "output_type": "execute_result"
    }
   ],
   "source": [
    "duo = [d for d in artists if '&' in d]\n",
    "duo"
   ]
  },
  {
   "cell_type": "code",
   "execution_count": 42,
   "metadata": {},
   "outputs": [
    {
     "data": {
      "text/plain": [
       "['Bebe Rexha & Florida Georgia Line',\n",
       " 'Cardi B&Bad Bunny & J Balvin',\n",
       " 'Zedd&Maren Morris & Grey',\n",
       " 'Bruno Mars & Cardi B',\n",
       " 'Khalid & Normani',\n",
       " 'Lil Baby & Drake',\n",
       " 'Marshmello & Anne-Marie',\n",
       " 'G-Eazy & A$AP Rocky & Cardi B',\n",
       " '6ix9ine & Nicki Minaj & Murda Beatz',\n",
       " 'Migos&Nicki Minaj & Cardi B',\n",
       " 'Offset & Metro Boomin',\n",
       " 'The Weeknd & Kendrick Lamar',\n",
       " 'G-Eazy & Halsey',\n",
       " 'Kendrick Lamar & SZA',\n",
       " 'YG & 2 Chainz&Big Sean & Nicki Minaj',\n",
       " 'Calvin Harris & Dua Lipa',\n",
       " 'DJ Khaled & Justin Bieber&Chance The Rapper & Quavo',\n",
       " 'benny blanco&Halsey & Khalid',\n",
       " 'Jay Rock&Kendrick Lamar&Future & James Blake',\n",
       " 'Marshmello & Bastille',\n",
       " 'Casper Magico&Nio Garcia&Darell&Nicky Jam&Ozuna & Bad Bunny',\n",
       " 'N*E*R*D & Rihanna',\n",
       " 'Logic & Alessia Cara & Khalid',\n",
       " 'Rae Sremmurd & Juicy J',\n",
       " 'J Balvin & Willy William & Beyonce']"
      ]
     },
     "execution_count": 42,
     "metadata": {},
     "output_type": "execute_result"
    }
   ],
   "source": [
    "duo_empersand"
   ]
  },
  {
   "cell_type": "code",
   "execution_count": 58,
   "metadata": {},
   "outputs": [
    {
     "data": {
      "text/plain": [
       "['Bebe Rexha',\n",
       " 'Florida Georgia Line',\n",
       " 'Cardi B',\n",
       " 'Bad Bunny',\n",
       " 'J Balvin',\n",
       " 'Zedd',\n",
       " 'Maren Morris',\n",
       " 'Grey',\n",
       " 'Bruno Mars',\n",
       " 'Cardi B']"
      ]
     },
     "execution_count": 58,
     "metadata": {},
     "output_type": "execute_result"
    }
   ],
   "source": [
    "duo = [word for line in duo_empersand for word in line.split(\"&\")]\n",
    "duo = [i.strip() for i in duo]\n",
    "duo[:10]"
   ]
  },
  {
   "cell_type": "code",
   "execution_count": 59,
   "metadata": {},
   "outputs": [
    {
     "data": {
      "text/plain": [
       "['Bebe Rexha & Florida Georgia Line',\n",
       " 'Cardi B&Bad Bunny & J Balvin',\n",
       " 'Zedd&Maren Morris & Grey',\n",
       " 'Bruno Mars & Cardi B',\n",
       " 'Khalid & Normani',\n",
       " 'Lil Baby & Drake',\n",
       " 'Marshmello & Anne-Marie',\n",
       " 'G-Eazy & A$AP Rocky & Cardi B',\n",
       " '6ix9ine & Nicki Minaj & Murda Beatz',\n",
       " 'Migos&Nicki Minaj & Cardi B']"
      ]
     },
     "execution_count": 59,
     "metadata": {},
     "output_type": "execute_result"
    }
   ],
   "source": [
    "duo_empersand[:10]"
   ]
  },
  {
   "cell_type": "code",
   "execution_count": 138,
   "metadata": {},
   "outputs": [
    {
     "name": "stdout",
     "output_type": "stream",
     "text": [
      "['Bebe Rexha, Florida Georgia Line', 'Cardi B, Bad Bunny, J Balvin', 'Zedd, Maren Morris, Grey', 'Bruno Mars, Cardi B', 'Khalid, Normani', 'Lil Baby, Drake', 'Marshmello, Anne-Marie', 'G-Eazy Featuring A$AP Rocky, Cardi B', '6ix9ine Featuring Nicki Minaj, Murda Beatz', 'Migos, Nicki Minaj, Cardi B', 'Offset, Metro Boomin', 'The Weeknd, Kendrick Lamar', 'G-Eazy, Halsey', 'Kendrick Lamar, SZA', 'YG Featuring 2 Chainz, Big Sean, Nicki Minaj', 'Calvin Harris, Dua Lipa', 'DJ Khaled Featuring Justin Bieber, Chance The Rapper, Quavo', 'benny blanco, Halsey, Khalid', 'Jay Rock, Kendrick Lamar, Future, James Blake', 'Marshmello, Bastille', 'Casper Magico, Nio Garcia, Darell, Nicky Jam, Ozuna, Bad Bunny', 'N*E*R*D, Rihanna', 'Logic Featuring Alessia Cara, Khalid', 'Rae Sremmurd, Juicy J', 'J Balvin, Willy William Featuring Beyonce']\n"
     ]
    }
   ],
   "source": [
    "duo_split = [i.replace(' &',',') for i in duo]\n",
    "print(duo_split)"
   ]
  },
  {
   "cell_type": "code",
   "execution_count": 132,
   "metadata": {},
   "outputs": [],
   "source": [
    "duo_str = ' '.join(duo)"
   ]
  },
  {
   "cell_type": "code",
   "execution_count": 139,
   "metadata": {},
   "outputs": [],
   "source": [
    "duo_split_str = ' '.join(duo_split)"
   ]
  },
  {
   "cell_type": "code",
   "execution_count": 140,
   "metadata": {},
   "outputs": [
    {
     "data": {
      "text/plain": [
       "'Bebe Rexha, Florida Georgia Line Cardi B, Bad Bunny, J Balvin Zedd, Maren Morris, Grey Bruno Mars, Cardi B Khalid, Normani Lil Baby, Drake Marshmello, Anne-Marie G-Eazy Featuring A$AP Rocky, Cardi B 6ix9ine Featuring Nicki Minaj, Murda Beatz Migos, Nicki Minaj, Cardi B Offset, Metro Boomin The Weeknd, Kendrick Lamar G-Eazy, Halsey Kendrick Lamar, SZA YG Featuring 2 Chainz, Big Sean, Nicki Minaj Calvin Harris, Dua Lipa DJ Khaled Featuring Justin Bieber, Chance The Rapper, Quavo benny blanco, Halsey, Khalid Jay Rock, Kendrick Lamar, Future, James Blake Marshmello, Bastille Casper Magico, Nio Garcia, Darell, Nicky Jam, Ozuna, Bad Bunny N*E*R*D, Rihanna Logic Featuring Alessia Cara, Khalid Rae Sremmurd, Juicy J J Balvin, Willy William Featuring Beyonce'"
      ]
     },
     "execution_count": 140,
     "metadata": {},
     "output_type": "execute_result"
    }
   ],
   "source": [
    "duo_split_str"
   ]
  },
  {
   "cell_type": "code",
   "execution_count": 141,
   "metadata": {},
   "outputs": [
    {
     "data": {
      "text/plain": [
       "['Bebe Rexha ',\n",
       " ' Florida Georgia Line Cardi B, Bad Bunny ',\n",
       " ' J Balvin Zedd, Maren Morris ',\n",
       " ' Grey Bruno Mars ',\n",
       " ' Cardi B Khalid ',\n",
       " ' Normani Lil Baby ',\n",
       " ' Drake Marshmello ',\n",
       " ' Anne-Marie G-Eazy Featuring A$AP Rocky ',\n",
       " ' Cardi B 6ix9ine Featuring Nicki Minaj ',\n",
       " ' Murda Beatz Migos, Nicki Minaj ',\n",
       " ' Cardi B Offset ',\n",
       " ' Metro Boomin The Weeknd ',\n",
       " ' Kendrick Lamar G-Eazy ',\n",
       " ' Halsey Kendrick Lamar ',\n",
       " ' SZA YG Featuring 2 Chainz, Big Sean ',\n",
       " ' Nicki Minaj Calvin Harris ',\n",
       " ' Dua Lipa DJ Khaled Featuring Justin Bieber, Chance The Rapper ',\n",
       " ' Quavo benny blanco, Halsey ',\n",
       " ' Khalid Jay Rock, Kendrick Lamar, Future ',\n",
       " ' James Blake Marshmello ',\n",
       " ' Bastille Casper Magico, Nio Garcia, Darell, Nicky Jam, Ozuna ',\n",
       " ' Bad Bunny N*E*R*D ',\n",
       " ' Rihanna Logic Featuring Alessia Cara ',\n",
       " ' Khalid Rae Sremmurd ',\n",
       " ' Juicy J J Balvin ',\n",
       " ' Willy William Featuring Beyonce']"
      ]
     },
     "execution_count": 141,
     "metadata": {},
     "output_type": "execute_result"
    }
   ],
   "source": [
    "duo_str.split('&')"
   ]
  },
  {
   "cell_type": "code",
   "execution_count": 121,
   "metadata": {},
   "outputs": [
    {
     "data": {
      "text/plain": [
       "['Camila Cabello Featuring Young Thug',\n",
       " 'Post Malone Featuring 21 Savage',\n",
       " 'Post Malone Featuring Ty Dolla $ign',\n",
       " 'Maroon 5 Featuring Cardi B',\n",
       " 'BlocBoy JB Featuring Drake',\n",
       " 'Tyga Featuring Offset',\n",
       " 'G-Eazy Featuring A$AP Rocky & Cardi B',\n",
       " '6ix9ine Featuring Nicki Minaj & Murda Beatz',\n",
       " 'Migos Featuring Drake',\n",
       " 'Kendrick Lamar Featuring Zacari',\n",
       " 'Lil Dicky Featuring Chris Brown',\n",
       " 'Cardi B Featuring 21 Savage',\n",
       " 'YG Featuring 2 Chainz, Big Sean & Nicki Minaj',\n",
       " 'MAX Featuring gnash',\n",
       " 'Gucci Mane Featuring Migos',\n",
       " 'DJ Khaled Featuring Justin Bieber, Chance The Rapper & Quavo',\n",
       " 'A$AP Ferg Featuring Nicki Minaj',\n",
       " 'Miguel Featuring Travis Scott',\n",
       " 'Logic Featuring Alessia Cara & Khalid',\n",
       " 'Justin Timberlake Featuring Chris Stapleton',\n",
       " 'Maroon 5 Featuring SZA',\n",
       " 'J Balvin & Willy William Featuring Beyonce']"
      ]
     },
     "execution_count": 121,
     "metadata": {},
     "output_type": "execute_result"
    }
   ],
   "source": [
    "featuring = [f for f in artists if 'Featuring' in f]\n",
    "featuring"
   ]
  }
 ],
 "metadata": {
  "kernelspec": {
   "display_name": "Python 3",
   "language": "python",
   "name": "python3"
  },
  "language_info": {
   "codemirror_mode": {
    "name": "ipython",
    "version": 3
   },
   "file_extension": ".py",
   "mimetype": "text/x-python",
   "name": "python",
   "nbconvert_exporter": "python",
   "pygments_lexer": "ipython3",
   "version": "3.6.5"
  }
 },
 "nbformat": 4,
 "nbformat_minor": 2
}
