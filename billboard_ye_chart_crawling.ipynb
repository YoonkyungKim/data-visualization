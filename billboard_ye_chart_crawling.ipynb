{
 "cells": [
  {
   "cell_type": "code",
   "execution_count": 180,
   "metadata": {},
   "outputs": [],
   "source": [
    "from lxml import html\n",
    "import requests"
   ]
  },
  {
   "cell_type": "code",
   "execution_count": 181,
   "metadata": {},
   "outputs": [],
   "source": [
    "page = requests.get(\"https://www.billboard.com/charts/year-end/2018/hot-100-songs\")\n",
    "content = html.fromstring(page.content)"
   ]
  },
  {
   "cell_type": "code",
   "execution_count": 182,
   "metadata": {},
   "outputs": [],
   "source": [
    "artists_a = content.xpath('//div[@class=\"ye-chart-item__artist\"]/a/text()')"
   ]
  },
  {
   "cell_type": "code",
   "execution_count": 183,
   "metadata": {},
   "outputs": [],
   "source": [
    "artists_a = content.xpath('//div[@class=\"ye-chart-item__artist\"]/a/text()')"
   ]
  },
  {
   "cell_type": "code",
   "execution_count": 184,
   "metadata": {},
   "outputs": [
    {
     "data": {
      "text/plain": [
       "54"
      ]
     },
     "execution_count": 184,
     "metadata": {},
     "output_type": "execute_result"
    }
   ],
   "source": [
    "len(artists_a)"
   ]
  },
  {
   "cell_type": "code",
   "execution_count": 185,
   "metadata": {},
   "outputs": [],
   "source": [
    "artists_without_a = content.xpath('//div[@class=\"ye-chart-item__artist\"]/text()')"
   ]
  },
  {
   "cell_type": "code",
   "execution_count": 186,
   "metadata": {},
   "outputs": [
    {
     "data": {
      "text/plain": [
       "154"
      ]
     },
     "execution_count": 186,
     "metadata": {},
     "output_type": "execute_result"
    }
   ],
   "source": [
    "len(artists_without_a)"
   ]
  },
  {
   "cell_type": "code",
   "execution_count": 187,
   "metadata": {},
   "outputs": [],
   "source": [
    "artists_without_a = [x for x in artists_without_a if x != '\\n']"
   ]
  },
  {
   "cell_type": "code",
   "execution_count": 189,
   "metadata": {},
   "outputs": [
    {
     "data": {
      "text/plain": [
       "['\\nBebe Rexha & Florida Georgia Line\\n',\n",
       " '\\nCamila Cabello Featuring Young Thug\\n',\n",
       " '\\nPost Malone Featuring 21 Savage\\n',\n",
       " '\\nPost Malone Featuring Ty Dolla $ign\\n',\n",
       " '\\nCardi B, Bad Bunny & J Balvin\\n',\n",
       " '\\nZedd, Maren Morris & Grey\\n',\n",
       " '\\nMaroon 5 Featuring Cardi B\\n',\n",
       " '\\nJuice WRLD\\n',\n",
       " '\\nBruno Mars & Cardi B\\n',\n",
       " '\\nKhalid & Normani\\n',\n",
       " '\\nBazzi\\n',\n",
       " '\\nBlocBoy JB Featuring Drake\\n',\n",
       " '\\nLil Baby & Drake\\n',\n",
       " '\\nMarshmello & Anne-Marie\\n',\n",
       " '\\nTyga Featuring Offset\\n',\n",
       " '\\nG-Eazy Featuring A$AP Rocky & Cardi B\\n',\n",
       " '\\n6ix9ine Featuring Nicki Minaj & Murda Beatz\\n',\n",
       " '\\nMigos, Nicki Minaj & Cardi B\\n',\n",
       " '\\nOffset & Metro Boomin\\n',\n",
       " '\\nThe Weeknd & Kendrick Lamar\\n',\n",
       " '\\nMigos Featuring Drake\\n',\n",
       " '\\nG-Eazy & Halsey\\n',\n",
       " '\\nKendrick Lamar & SZA\\n',\n",
       " '\\nKendrick Lamar Featuring Zacari\\n',\n",
       " '\\nLil Dicky Featuring Chris Brown\\n',\n",
       " '\\n6ix9ine\\n',\n",
       " '\\nSelena Gomez X Marshmello\\n',\n",
       " '\\nCardi B Featuring 21 Savage\\n',\n",
       " '\\nYG Featuring 2 Chainz, Big Sean & Nicki Minaj\\n',\n",
       " '\\nMAX Featuring gnash\\n',\n",
       " '\\nCalvin Harris & Dua Lipa\\n',\n",
       " '\\nGucci Mane Featuring Migos\\n',\n",
       " '\\nDJ Khaled Featuring Justin Bieber, Chance The Rapper & Quavo\\n',\n",
       " '\\nA$AP Ferg Featuring Nicki Minaj\\n',\n",
       " '\\nMiguel Featuring Travis Scott\\n',\n",
       " '\\nbenny blanco, Halsey & Khalid\\n',\n",
       " '\\nJay Rock, Kendrick Lamar, Future & James Blake\\n',\n",
       " '\\nMarshmello & Bastille\\n',\n",
       " '\\nCasper Magico, Nio Garcia, Darell, Nicky Jam, Ozuna & Bad Bunny\\n',\n",
       " '\\nN*E*R*D & Rihanna\\n',\n",
       " '\\nLogic Featuring Alessia Cara & Khalid\\n',\n",
       " '\\nJustin Timberlake Featuring Chris Stapleton\\n',\n",
       " '\\nMaroon 5 Featuring SZA\\n',\n",
       " '\\nNicky Jam x J Balvin\\n',\n",
       " '\\nRae Sremmurd & Juicy J\\n',\n",
       " '\\nJ Balvin & Willy William Featuring Beyonce\\n']"
      ]
     },
     "execution_count": 189,
     "metadata": {},
     "output_type": "execute_result"
    }
   ],
   "source": [
    "artists_without_a"
   ]
  },
  {
   "cell_type": "code",
   "execution_count": 190,
   "metadata": {},
   "outputs": [],
   "source": [
    "artists_without_a = [i.replace('\\n','') for i in artists_without_a]"
   ]
  },
  {
   "cell_type": "code",
   "execution_count": 191,
   "metadata": {},
   "outputs": [
    {
     "data": {
      "text/plain": [
       "['Bebe Rexha & Florida Georgia Line',\n",
       " 'Camila Cabello Featuring Young Thug',\n",
       " 'Post Malone Featuring 21 Savage',\n",
       " 'Post Malone Featuring Ty Dolla $ign',\n",
       " 'Cardi B, Bad Bunny & J Balvin',\n",
       " 'Zedd, Maren Morris & Grey',\n",
       " 'Maroon 5 Featuring Cardi B',\n",
       " 'Juice WRLD',\n",
       " 'Bruno Mars & Cardi B',\n",
       " 'Khalid & Normani',\n",
       " 'Bazzi',\n",
       " 'BlocBoy JB Featuring Drake',\n",
       " 'Lil Baby & Drake',\n",
       " 'Marshmello & Anne-Marie',\n",
       " 'Tyga Featuring Offset',\n",
       " 'G-Eazy Featuring A$AP Rocky & Cardi B',\n",
       " '6ix9ine Featuring Nicki Minaj & Murda Beatz',\n",
       " 'Migos, Nicki Minaj & Cardi B',\n",
       " 'Offset & Metro Boomin',\n",
       " 'The Weeknd & Kendrick Lamar',\n",
       " 'Migos Featuring Drake',\n",
       " 'G-Eazy & Halsey',\n",
       " 'Kendrick Lamar & SZA',\n",
       " 'Kendrick Lamar Featuring Zacari',\n",
       " 'Lil Dicky Featuring Chris Brown',\n",
       " '6ix9ine',\n",
       " 'Selena Gomez X Marshmello',\n",
       " 'Cardi B Featuring 21 Savage',\n",
       " 'YG Featuring 2 Chainz, Big Sean & Nicki Minaj',\n",
       " 'MAX Featuring gnash',\n",
       " 'Calvin Harris & Dua Lipa',\n",
       " 'Gucci Mane Featuring Migos',\n",
       " 'DJ Khaled Featuring Justin Bieber, Chance The Rapper & Quavo',\n",
       " 'A$AP Ferg Featuring Nicki Minaj',\n",
       " 'Miguel Featuring Travis Scott',\n",
       " 'benny blanco, Halsey & Khalid',\n",
       " 'Jay Rock, Kendrick Lamar, Future & James Blake',\n",
       " 'Marshmello & Bastille',\n",
       " 'Casper Magico, Nio Garcia, Darell, Nicky Jam, Ozuna & Bad Bunny',\n",
       " 'N*E*R*D & Rihanna',\n",
       " 'Logic Featuring Alessia Cara & Khalid',\n",
       " 'Justin Timberlake Featuring Chris Stapleton',\n",
       " 'Maroon 5 Featuring SZA',\n",
       " 'Nicky Jam x J Balvin',\n",
       " 'Rae Sremmurd & Juicy J',\n",
       " 'J Balvin & Willy William Featuring Beyonce']"
      ]
     },
     "execution_count": 191,
     "metadata": {},
     "output_type": "execute_result"
    }
   ],
   "source": [
    "artists_without_a"
   ]
  },
  {
   "cell_type": "code",
   "execution_count": 192,
   "metadata": {},
   "outputs": [
    {
     "data": {
      "text/plain": [
       "46"
      ]
     },
     "execution_count": 192,
     "metadata": {},
     "output_type": "execute_result"
    }
   ],
   "source": [
    "len(artists_without_a)"
   ]
  },
  {
   "cell_type": "code",
   "execution_count": 193,
   "metadata": {},
   "outputs": [],
   "source": [
    "artists = artists_a + artists_without_a"
   ]
  },
  {
   "cell_type": "code",
   "execution_count": 194,
   "metadata": {},
   "outputs": [
    {
     "data": {
      "text/plain": [
       "100"
      ]
     },
     "execution_count": 194,
     "metadata": {},
     "output_type": "execute_result"
    }
   ],
   "source": [
    "len(artists)"
   ]
  },
  {
   "cell_type": "code",
   "execution_count": 195,
   "metadata": {},
   "outputs": [],
   "source": [
    "artists = [i.replace('\\n','') for i in artists]"
   ]
  },
  {
   "cell_type": "code",
   "execution_count": 196,
   "metadata": {},
   "outputs": [
    {
     "data": {
      "text/plain": [
       "['Drake',\n",
       " 'Ed Sheeran',\n",
       " 'Drake',\n",
       " 'Drake',\n",
       " 'Post Malone',\n",
       " 'Ella Mai',\n",
       " 'Dua Lipa',\n",
       " 'XXXTENTACION',\n",
       " 'Camila Cabello',\n",
       " 'Ariana Grande',\n",
       " 'Imagine Dragons',\n",
       " 'Taylor Swift',\n",
       " 'Halsey',\n",
       " 'NF',\n",
       " 'Dan + Shay',\n",
       " 'Portugal. The Man',\n",
       " 'Lauv',\n",
       " '5 Seconds Of Summer',\n",
       " 'Imagine Dragons',\n",
       " 'Post Malone',\n",
       " 'Selena Gomez',\n",
       " 'Travis Scott',\n",
       " 'Lil Pump',\n",
       " 'Shawn Mendes',\n",
       " 'Migos',\n",
       " 'Sam Smith',\n",
       " 'Childish Gambino',\n",
       " 'Drake',\n",
       " 'Kane Brown',\n",
       " 'Cardi B',\n",
       " 'Rich The Kid',\n",
       " 'Maroon 5',\n",
       " 'Cardi B',\n",
       " 'Ariana Grande',\n",
       " 'Demi Lovato',\n",
       " 'Charlie Puth',\n",
       " 'Khalid',\n",
       " 'Imagine Dragons',\n",
       " 'Jason Aldean',\n",
       " 'Ed Sheeran',\n",
       " 'Thomas Rhett',\n",
       " 'The Weeknd',\n",
       " 'Florida Georgia Line',\n",
       " 'Drake',\n",
       " 'Kenny Chesney',\n",
       " 'XXXTENTACION',\n",
       " 'YoungBoy Never Broke Again',\n",
       " 'Ella Mai',\n",
       " 'Daddy Yankee',\n",
       " 'XXXTENTACION',\n",
       " 'Brett Young',\n",
       " 'Luke Combs',\n",
       " 'Dua Lipa',\n",
       " 'Imagine Dragons',\n",
       " 'Bebe Rexha & Florida Georgia Line',\n",
       " 'Camila Cabello Featuring Young Thug',\n",
       " 'Post Malone Featuring 21 Savage',\n",
       " 'Post Malone Featuring Ty Dolla $ign',\n",
       " 'Cardi B, Bad Bunny & J Balvin',\n",
       " 'Zedd, Maren Morris & Grey',\n",
       " 'Maroon 5 Featuring Cardi B',\n",
       " 'Juice WRLD',\n",
       " 'Bruno Mars & Cardi B',\n",
       " 'Khalid & Normani',\n",
       " 'Bazzi',\n",
       " 'BlocBoy JB Featuring Drake',\n",
       " 'Lil Baby & Drake',\n",
       " 'Marshmello & Anne-Marie',\n",
       " 'Tyga Featuring Offset',\n",
       " 'G-Eazy Featuring A$AP Rocky & Cardi B',\n",
       " '6ix9ine Featuring Nicki Minaj & Murda Beatz',\n",
       " 'Migos, Nicki Minaj & Cardi B',\n",
       " 'Offset & Metro Boomin',\n",
       " 'The Weeknd & Kendrick Lamar',\n",
       " 'Migos Featuring Drake',\n",
       " 'G-Eazy & Halsey',\n",
       " 'Kendrick Lamar & SZA',\n",
       " 'Kendrick Lamar Featuring Zacari',\n",
       " 'Lil Dicky Featuring Chris Brown',\n",
       " '6ix9ine',\n",
       " 'Selena Gomez X Marshmello',\n",
       " 'Cardi B Featuring 21 Savage',\n",
       " 'YG Featuring 2 Chainz, Big Sean & Nicki Minaj',\n",
       " 'MAX Featuring gnash',\n",
       " 'Calvin Harris & Dua Lipa',\n",
       " 'Gucci Mane Featuring Migos',\n",
       " 'DJ Khaled Featuring Justin Bieber, Chance The Rapper & Quavo',\n",
       " 'A$AP Ferg Featuring Nicki Minaj',\n",
       " 'Miguel Featuring Travis Scott',\n",
       " 'benny blanco, Halsey & Khalid',\n",
       " 'Jay Rock, Kendrick Lamar, Future & James Blake',\n",
       " 'Marshmello & Bastille',\n",
       " 'Casper Magico, Nio Garcia, Darell, Nicky Jam, Ozuna & Bad Bunny',\n",
       " 'N*E*R*D & Rihanna',\n",
       " 'Logic Featuring Alessia Cara & Khalid',\n",
       " 'Justin Timberlake Featuring Chris Stapleton',\n",
       " 'Maroon 5 Featuring SZA',\n",
       " 'Nicky Jam x J Balvin',\n",
       " 'Rae Sremmurd & Juicy J',\n",
       " 'J Balvin & Willy William Featuring Beyonce']"
      ]
     },
     "execution_count": 196,
     "metadata": {},
     "output_type": "execute_result"
    }
   ],
   "source": [
    "artists"
   ]
  },
  {
   "cell_type": "code",
   "execution_count": 197,
   "metadata": {},
   "outputs": [],
   "source": [
    "# use selenium to collect data in rank order\n",
    "from selenium import webdriver\n",
    "from selenium.common.exceptions import NoSuchElementException"
   ]
  },
  {
   "cell_type": "code",
   "execution_count": 81,
   "metadata": {},
   "outputs": [],
   "source": [
    "path=r'desktop/shoppingmall/chromedriver'\n",
    "driver=webdriver.Chrome(path)\n",
    "driver.get(\"https://www.billboard.com/charts/year-end/2018/hot-100-songs\")"
   ]
  },
  {
   "cell_type": "code",
   "execution_count": 89,
   "metadata": {},
   "outputs": [],
   "source": [
    "artists = []"
   ]
  },
  {
   "cell_type": "code",
   "execution_count": 90,
   "metadata": {},
   "outputs": [],
   "source": [
    "artist = driver.find_elements_by_xpath('//div[@class=\"ye-chart-item__artist\"]')\n",
    "for e in artist:\n",
    "    artists.append(e.text)\n",
    "    "
   ]
  },
  {
   "cell_type": "code",
   "execution_count": 92,
   "metadata": {},
   "outputs": [
    {
     "data": {
      "text/plain": [
       "100"
      ]
     },
     "execution_count": 92,
     "metadata": {},
     "output_type": "execute_result"
    }
   ],
   "source": [
    "len(artists)"
   ]
  },
  {
   "cell_type": "code",
   "execution_count": 93,
   "metadata": {},
   "outputs": [
    {
     "data": {
      "text/plain": [
       "['Drake',\n",
       " 'Ed Sheeran',\n",
       " 'Bebe Rexha & Florida Georgia Line',\n",
       " 'Camila Cabello Featuring Young Thug',\n",
       " 'Post Malone Featuring 21 Savage',\n",
       " 'Post Malone Featuring Ty Dolla $ign',\n",
       " 'Cardi B, Bad Bunny & J Balvin',\n",
       " 'Zedd, Maren Morris & Grey',\n",
       " 'Drake',\n",
       " 'Maroon 5 Featuring Cardi B',\n",
       " 'Drake',\n",
       " 'Juice WRLD',\n",
       " 'Post Malone',\n",
       " 'Bruno Mars & Cardi B',\n",
       " 'Ella Mai',\n",
       " 'Dua Lipa',\n",
       " 'XXXTENTACION',\n",
       " 'Camila Cabello',\n",
       " 'Khalid & Normani',\n",
       " 'Ariana Grande',\n",
       " 'Bazzi',\n",
       " 'Imagine Dragons',\n",
       " 'BlocBoy JB Featuring Drake',\n",
       " 'Taylor Swift',\n",
       " 'Lil Baby & Drake',\n",
       " 'Marshmello & Anne-Marie',\n",
       " 'Halsey',\n",
       " 'Tyga Featuring Offset',\n",
       " 'NF',\n",
       " 'G-Eazy Featuring A$AP Rocky & Cardi B',\n",
       " '6ix9ine Featuring Nicki Minaj & Murda Beatz',\n",
       " 'Dan + Shay',\n",
       " 'Portugal. The Man',\n",
       " 'Migos, Nicki Minaj & Cardi B',\n",
       " 'Lauv',\n",
       " '5 Seconds Of Summer',\n",
       " 'Imagine Dragons',\n",
       " 'Offset & Metro Boomin',\n",
       " 'Post Malone',\n",
       " 'The Weeknd & Kendrick Lamar',\n",
       " 'Selena Gomez',\n",
       " 'Travis Scott',\n",
       " 'Migos Featuring Drake',\n",
       " 'Lil Pump',\n",
       " 'G-Eazy & Halsey',\n",
       " 'Shawn Mendes',\n",
       " 'Kendrick Lamar & SZA',\n",
       " 'Migos',\n",
       " 'Sam Smith',\n",
       " 'Kendrick Lamar Featuring Zacari',\n",
       " 'Childish Gambino',\n",
       " 'Drake',\n",
       " 'Kane Brown',\n",
       " 'Cardi B',\n",
       " 'Lil Dicky Featuring Chris Brown',\n",
       " '6ix9ine',\n",
       " 'Rich The Kid',\n",
       " 'Maroon 5',\n",
       " 'Cardi B',\n",
       " 'Selena Gomez X Marshmello',\n",
       " 'Cardi B Featuring 21 Savage',\n",
       " 'Ariana Grande',\n",
       " 'YG Featuring 2 Chainz, Big Sean & Nicki Minaj',\n",
       " 'Demi Lovato',\n",
       " 'Charlie Puth',\n",
       " 'MAX Featuring gnash',\n",
       " 'Khalid',\n",
       " 'Calvin Harris & Dua Lipa',\n",
       " 'Imagine Dragons',\n",
       " 'Jason Aldean',\n",
       " 'Ed Sheeran',\n",
       " 'Gucci Mane Featuring Migos',\n",
       " 'DJ Khaled Featuring Justin Bieber, Chance The Rapper & Quavo',\n",
       " 'A$AP Ferg Featuring Nicki Minaj',\n",
       " 'Miguel Featuring Travis Scott',\n",
       " 'Thomas Rhett',\n",
       " 'benny blanco, Halsey & Khalid',\n",
       " 'The Weeknd',\n",
       " 'Jay Rock, Kendrick Lamar, Future & James Blake',\n",
       " 'Marshmello & Bastille',\n",
       " 'Casper Magico, Nio Garcia, Darell, Nicky Jam, Ozuna & Bad Bunny',\n",
       " 'Florida Georgia Line',\n",
       " 'N*E*R*D & Rihanna',\n",
       " 'Logic Featuring Alessia Cara & Khalid',\n",
       " 'Justin Timberlake Featuring Chris Stapleton',\n",
       " 'Drake',\n",
       " 'Kenny Chesney',\n",
       " 'XXXTENTACION',\n",
       " 'Maroon 5 Featuring SZA',\n",
       " 'Nicky Jam x J Balvin',\n",
       " 'YoungBoy Never Broke Again',\n",
       " 'Ella Mai',\n",
       " 'Daddy Yankee',\n",
       " 'XXXTENTACION',\n",
       " 'Brett Young',\n",
       " 'Luke Combs',\n",
       " 'Rae Sremmurd & Juicy J',\n",
       " 'Dua Lipa',\n",
       " 'J Balvin & Willy William Featuring Beyonce',\n",
       " 'Imagine Dragons']"
      ]
     },
     "execution_count": 93,
     "metadata": {},
     "output_type": "execute_result"
    }
   ],
   "source": [
    "artists"
   ]
  },
  {
   "cell_type": "code",
   "execution_count": 4,
   "metadata": {},
   "outputs": [],
   "source": [
    "from datetime import datetime"
   ]
  },
  {
   "cell_type": "code",
   "execution_count": 5,
   "metadata": {},
   "outputs": [],
   "source": [
    "def age(my_date):\n",
    "\n",
    "    b_date = datetime.strptime(my_date, '%m/%d/%Y')\n",
    "    print(\"Age : %d\" % ((datetime.today() - b_date).days/365))"
   ]
  },
  {
   "cell_type": "code",
   "execution_count": 6,
   "metadata": {},
   "outputs": [
    {
     "name": "stdout",
     "output_type": "stream",
     "text": [
      "Age : 36\n"
     ]
    }
   ],
   "source": [
    "age('11/25/1982')"
   ]
  },
  {
   "cell_type": "code",
   "execution_count": 104,
   "metadata": {},
   "outputs": [
    {
     "data": {
      "text/plain": [
       "datetime.datetime(2019, 8, 8, 21, 35, 31, 956603)"
      ]
     },
     "execution_count": 104,
     "metadata": {},
     "output_type": "execute_result"
    }
   ],
   "source": [
    "datetime.today()"
   ]
  },
  {
   "cell_type": "code",
   "execution_count": 119,
   "metadata": {},
   "outputs": [],
   "source": [
    "# collaboration (duo or featuring)\n",
    "matchers = ['&', 'Featuring']\n",
    "matching = [f for f in artists if any(e in f for e in matchers)]"
   ]
  },
  {
   "cell_type": "code",
   "execution_count": 120,
   "metadata": {
    "scrolled": true
   },
   "outputs": [
    {
     "data": {
      "text/plain": [
       "['Bebe Rexha & Florida Georgia Line',\n",
       " 'Camila Cabello Featuring Young Thug',\n",
       " 'Post Malone Featuring 21 Savage',\n",
       " 'Post Malone Featuring Ty Dolla $ign',\n",
       " 'Cardi B, Bad Bunny & J Balvin',\n",
       " 'Zedd, Maren Morris & Grey',\n",
       " 'Maroon 5 Featuring Cardi B',\n",
       " 'Bruno Mars & Cardi B',\n",
       " 'Khalid & Normani',\n",
       " 'BlocBoy JB Featuring Drake',\n",
       " 'Lil Baby & Drake',\n",
       " 'Marshmello & Anne-Marie',\n",
       " 'Tyga Featuring Offset',\n",
       " 'G-Eazy Featuring A$AP Rocky & Cardi B',\n",
       " '6ix9ine Featuring Nicki Minaj & Murda Beatz',\n",
       " 'Migos, Nicki Minaj & Cardi B',\n",
       " 'Offset & Metro Boomin',\n",
       " 'The Weeknd & Kendrick Lamar',\n",
       " 'Migos Featuring Drake',\n",
       " 'G-Eazy & Halsey',\n",
       " 'Kendrick Lamar & SZA',\n",
       " 'Kendrick Lamar Featuring Zacari',\n",
       " 'Lil Dicky Featuring Chris Brown',\n",
       " 'Cardi B Featuring 21 Savage',\n",
       " 'YG Featuring 2 Chainz, Big Sean & Nicki Minaj',\n",
       " 'MAX Featuring gnash',\n",
       " 'Calvin Harris & Dua Lipa',\n",
       " 'Gucci Mane Featuring Migos',\n",
       " 'DJ Khaled Featuring Justin Bieber, Chance The Rapper & Quavo',\n",
       " 'A$AP Ferg Featuring Nicki Minaj',\n",
       " 'Miguel Featuring Travis Scott',\n",
       " 'benny blanco, Halsey & Khalid',\n",
       " 'Jay Rock, Kendrick Lamar, Future & James Blake',\n",
       " 'Marshmello & Bastille',\n",
       " 'Casper Magico, Nio Garcia, Darell, Nicky Jam, Ozuna & Bad Bunny',\n",
       " 'N*E*R*D & Rihanna',\n",
       " 'Logic Featuring Alessia Cara & Khalid',\n",
       " 'Justin Timberlake Featuring Chris Stapleton',\n",
       " 'Maroon 5 Featuring SZA',\n",
       " 'Rae Sremmurd & Juicy J',\n",
       " 'J Balvin & Willy William Featuring Beyonce']"
      ]
     },
     "execution_count": 120,
     "metadata": {},
     "output_type": "execute_result"
    }
   ],
   "source": [
    "matching"
   ]
  },
  {
   "cell_type": "code",
   "execution_count": 124,
   "metadata": {},
   "outputs": [
    {
     "data": {
      "text/plain": [
       "['Drake',\n",
       " 'Ed Sheeran',\n",
       " 'Drake',\n",
       " 'Drake',\n",
       " 'Juice WRLD',\n",
       " 'Post Malone',\n",
       " 'Ella Mai',\n",
       " 'Dua Lipa',\n",
       " 'XXXTENTACION',\n",
       " 'Camila Cabello',\n",
       " 'Ariana Grande',\n",
       " 'Bazzi',\n",
       " 'Imagine Dragons',\n",
       " 'Taylor Swift',\n",
       " 'Halsey',\n",
       " 'NF',\n",
       " 'Dan + Shay',\n",
       " 'Portugal. The Man',\n",
       " 'Lauv',\n",
       " '5 Seconds Of Summer',\n",
       " 'Imagine Dragons',\n",
       " 'Post Malone',\n",
       " 'Selena Gomez',\n",
       " 'Travis Scott',\n",
       " 'Lil Pump',\n",
       " 'Shawn Mendes',\n",
       " 'Migos',\n",
       " 'Sam Smith',\n",
       " 'Childish Gambino',\n",
       " 'Drake',\n",
       " 'Kane Brown',\n",
       " 'Cardi B',\n",
       " '6ix9ine',\n",
       " 'Rich The Kid',\n",
       " 'Maroon 5',\n",
       " 'Cardi B',\n",
       " 'Selena Gomez X Marshmello',\n",
       " 'Ariana Grande',\n",
       " 'Demi Lovato',\n",
       " 'Charlie Puth',\n",
       " 'Khalid',\n",
       " 'Imagine Dragons',\n",
       " 'Jason Aldean',\n",
       " 'Ed Sheeran',\n",
       " 'Thomas Rhett',\n",
       " 'The Weeknd',\n",
       " 'Florida Georgia Line',\n",
       " 'Drake',\n",
       " 'Kenny Chesney',\n",
       " 'XXXTENTACION',\n",
       " 'Nicky Jam x J Balvin',\n",
       " 'YoungBoy Never Broke Again',\n",
       " 'Ella Mai',\n",
       " 'Daddy Yankee',\n",
       " 'XXXTENTACION',\n",
       " 'Brett Young',\n",
       " 'Luke Combs',\n",
       " 'Dua Lipa',\n",
       " 'Imagine Dragons']"
      ]
     },
     "execution_count": 124,
     "metadata": {},
     "output_type": "execute_result"
    }
   ],
   "source": [
    "artists_without_collab = [x for x in artists if x not in matching]\n",
    "artists_without_collab"
   ]
  },
  {
   "cell_type": "code",
   "execution_count": 134,
   "metadata": {},
   "outputs": [
    {
     "data": {
      "text/plain": [
       "['Bebe Rexha & Florida Georgia Line',\n",
       " 'Cardi B, Bad Bunny & J Balvin',\n",
       " 'Zedd, Maren Morris & Grey',\n",
       " 'Bruno Mars & Cardi B',\n",
       " 'Khalid & Normani',\n",
       " 'Lil Baby & Drake',\n",
       " 'Marshmello & Anne-Marie',\n",
       " 'G-Eazy Featuring A$AP Rocky & Cardi B',\n",
       " '6ix9ine Featuring Nicki Minaj & Murda Beatz',\n",
       " 'Migos, Nicki Minaj & Cardi B',\n",
       " 'Offset & Metro Boomin',\n",
       " 'The Weeknd & Kendrick Lamar',\n",
       " 'G-Eazy & Halsey',\n",
       " 'Kendrick Lamar & SZA',\n",
       " 'YG Featuring 2 Chainz, Big Sean & Nicki Minaj',\n",
       " 'Calvin Harris & Dua Lipa',\n",
       " 'DJ Khaled Featuring Justin Bieber, Chance The Rapper & Quavo',\n",
       " 'benny blanco, Halsey & Khalid',\n",
       " 'Jay Rock, Kendrick Lamar, Future & James Blake',\n",
       " 'Marshmello & Bastille',\n",
       " 'Casper Magico, Nio Garcia, Darell, Nicky Jam, Ozuna & Bad Bunny',\n",
       " 'N*E*R*D & Rihanna',\n",
       " 'Logic Featuring Alessia Cara & Khalid',\n",
       " 'Rae Sremmurd & Juicy J',\n",
       " 'J Balvin & Willy William Featuring Beyonce']"
      ]
     },
     "execution_count": 134,
     "metadata": {},
     "output_type": "execute_result"
    }
   ],
   "source": [
    "duo = [d for d in artists if '&' in d]\n",
    "duo"
   ]
  },
  {
   "cell_type": "code",
   "execution_count": 172,
   "metadata": {},
   "outputs": [],
   "source": [
    "duo_empersand = [i.replace(', ', '&') for i in duo]\n",
    "duo_empersand = [i.replace('Featuring', '&') for i in duo_empersand]"
   ]
  },
  {
   "cell_type": "code",
   "execution_count": 173,
   "metadata": {},
   "outputs": [
    {
     "data": {
      "text/plain": [
       "['Bebe Rexha & Florida Georgia Line',\n",
       " 'Cardi B&Bad Bunny & J Balvin',\n",
       " 'Zedd&Maren Morris & Grey',\n",
       " 'Bruno Mars & Cardi B',\n",
       " 'Khalid & Normani',\n",
       " 'Lil Baby & Drake',\n",
       " 'Marshmello & Anne-Marie',\n",
       " 'G-Eazy & A$AP Rocky & Cardi B',\n",
       " '6ix9ine & Nicki Minaj & Murda Beatz',\n",
       " 'Migos&Nicki Minaj & Cardi B',\n",
       " 'Offset & Metro Boomin',\n",
       " 'The Weeknd & Kendrick Lamar',\n",
       " 'G-Eazy & Halsey',\n",
       " 'Kendrick Lamar & SZA',\n",
       " 'YG & 2 Chainz&Big Sean & Nicki Minaj',\n",
       " 'Calvin Harris & Dua Lipa',\n",
       " 'DJ Khaled & Justin Bieber&Chance The Rapper & Quavo',\n",
       " 'benny blanco&Halsey & Khalid',\n",
       " 'Jay Rock&Kendrick Lamar&Future & James Blake',\n",
       " 'Marshmello & Bastille',\n",
       " 'Casper Magico&Nio Garcia&Darell&Nicky Jam&Ozuna & Bad Bunny',\n",
       " 'N*E*R*D & Rihanna',\n",
       " 'Logic & Alessia Cara & Khalid',\n",
       " 'Rae Sremmurd & Juicy J',\n",
       " 'J Balvin & Willy William & Beyonce']"
      ]
     },
     "execution_count": 173,
     "metadata": {},
     "output_type": "execute_result"
    }
   ],
   "source": [
    "duo_empersand"
   ]
  },
  {
   "cell_type": "code",
   "execution_count": 177,
   "metadata": {},
   "outputs": [
    {
     "data": {
      "text/plain": [
       "['Bebe Rexha',\n",
       " 'Florida Georgia Line',\n",
       " 'Cardi B',\n",
       " 'Bad Bunny',\n",
       " 'J Balvin',\n",
       " 'Zedd',\n",
       " 'Maren Morris',\n",
       " 'Grey',\n",
       " 'Bruno Mars',\n",
       " 'Cardi B',\n",
       " 'Khalid',\n",
       " 'Normani',\n",
       " 'Lil Baby',\n",
       " 'Drake',\n",
       " 'Marshmello',\n",
       " 'Anne-Marie',\n",
       " 'G-Eazy',\n",
       " 'A$AP Rocky',\n",
       " 'Cardi B',\n",
       " '6ix9ine',\n",
       " 'Nicki Minaj',\n",
       " 'Murda Beatz',\n",
       " 'Migos',\n",
       " 'Nicki Minaj',\n",
       " 'Cardi B',\n",
       " 'Offset',\n",
       " 'Metro Boomin',\n",
       " 'The Weeknd',\n",
       " 'Kendrick Lamar',\n",
       " 'G-Eazy',\n",
       " 'Halsey',\n",
       " 'Kendrick Lamar',\n",
       " 'SZA',\n",
       " 'YG',\n",
       " '2 Chainz',\n",
       " 'Big Sean',\n",
       " 'Nicki Minaj',\n",
       " 'Calvin Harris',\n",
       " 'Dua Lipa',\n",
       " 'DJ Khaled',\n",
       " 'Justin Bieber',\n",
       " 'Chance The Rapper',\n",
       " 'Quavo',\n",
       " 'benny blanco',\n",
       " 'Halsey',\n",
       " 'Khalid',\n",
       " 'Jay Rock',\n",
       " 'Kendrick Lamar',\n",
       " 'Future',\n",
       " 'James Blake',\n",
       " 'Marshmello',\n",
       " 'Bastille',\n",
       " 'Casper Magico',\n",
       " 'Nio Garcia',\n",
       " 'Darell',\n",
       " 'Nicky Jam',\n",
       " 'Ozuna',\n",
       " 'Bad Bunny',\n",
       " 'N*E*R*D',\n",
       " 'Rihanna',\n",
       " 'Logic',\n",
       " 'Alessia Cara',\n",
       " 'Khalid',\n",
       " 'Rae Sremmurd',\n",
       " 'Juicy J',\n",
       " 'J Balvin',\n",
       " 'Willy William',\n",
       " 'Beyonce']"
      ]
     },
     "execution_count": 177,
     "metadata": {},
     "output_type": "execute_result"
    }
   ],
   "source": [
    "duo = [word for line in duo_empersand for word in line.split(\"&\")]\n",
    "duo = [i.strip() for i in duo]\n",
    "duo"
   ]
  },
  {
   "cell_type": "code",
   "execution_count": 176,
   "metadata": {},
   "outputs": [
    {
     "data": {
      "text/plain": [
       "['Bebe Rexha & Florida Georgia Line',\n",
       " 'Cardi B&Bad Bunny & J Balvin',\n",
       " 'Zedd&Maren Morris & Grey',\n",
       " 'Bruno Mars & Cardi B',\n",
       " 'Khalid & Normani',\n",
       " 'Lil Baby & Drake',\n",
       " 'Marshmello & Anne-Marie',\n",
       " 'G-Eazy & A$AP Rocky & Cardi B',\n",
       " '6ix9ine & Nicki Minaj & Murda Beatz',\n",
       " 'Migos&Nicki Minaj & Cardi B',\n",
       " 'Offset & Metro Boomin',\n",
       " 'The Weeknd & Kendrick Lamar',\n",
       " 'G-Eazy & Halsey',\n",
       " 'Kendrick Lamar & SZA',\n",
       " 'YG & 2 Chainz&Big Sean & Nicki Minaj',\n",
       " 'Calvin Harris & Dua Lipa',\n",
       " 'DJ Khaled & Justin Bieber&Chance The Rapper & Quavo',\n",
       " 'benny blanco&Halsey & Khalid',\n",
       " 'Jay Rock&Kendrick Lamar&Future & James Blake',\n",
       " 'Marshmello & Bastille',\n",
       " 'Casper Magico&Nio Garcia&Darell&Nicky Jam&Ozuna & Bad Bunny',\n",
       " 'N*E*R*D & Rihanna',\n",
       " 'Logic & Alessia Cara & Khalid',\n",
       " 'Rae Sremmurd & Juicy J',\n",
       " 'J Balvin & Willy William & Beyonce']"
      ]
     },
     "execution_count": 176,
     "metadata": {},
     "output_type": "execute_result"
    }
   ],
   "source": [
    "duo_empersand"
   ]
  },
  {
   "cell_type": "code",
   "execution_count": 138,
   "metadata": {},
   "outputs": [
    {
     "name": "stdout",
     "output_type": "stream",
     "text": [
      "['Bebe Rexha, Florida Georgia Line', 'Cardi B, Bad Bunny, J Balvin', 'Zedd, Maren Morris, Grey', 'Bruno Mars, Cardi B', 'Khalid, Normani', 'Lil Baby, Drake', 'Marshmello, Anne-Marie', 'G-Eazy Featuring A$AP Rocky, Cardi B', '6ix9ine Featuring Nicki Minaj, Murda Beatz', 'Migos, Nicki Minaj, Cardi B', 'Offset, Metro Boomin', 'The Weeknd, Kendrick Lamar', 'G-Eazy, Halsey', 'Kendrick Lamar, SZA', 'YG Featuring 2 Chainz, Big Sean, Nicki Minaj', 'Calvin Harris, Dua Lipa', 'DJ Khaled Featuring Justin Bieber, Chance The Rapper, Quavo', 'benny blanco, Halsey, Khalid', 'Jay Rock, Kendrick Lamar, Future, James Blake', 'Marshmello, Bastille', 'Casper Magico, Nio Garcia, Darell, Nicky Jam, Ozuna, Bad Bunny', 'N*E*R*D, Rihanna', 'Logic Featuring Alessia Cara, Khalid', 'Rae Sremmurd, Juicy J', 'J Balvin, Willy William Featuring Beyonce']\n"
     ]
    }
   ],
   "source": [
    "duo_split = [i.replace(' &',',') for i in duo]\n",
    "print(duo_split)"
   ]
  },
  {
   "cell_type": "code",
   "execution_count": 132,
   "metadata": {},
   "outputs": [],
   "source": [
    "duo_str = ' '.join(duo)"
   ]
  },
  {
   "cell_type": "code",
   "execution_count": 139,
   "metadata": {},
   "outputs": [],
   "source": [
    "duo_split_str = ' '.join(duo_split)"
   ]
  },
  {
   "cell_type": "code",
   "execution_count": 140,
   "metadata": {},
   "outputs": [
    {
     "data": {
      "text/plain": [
       "'Bebe Rexha, Florida Georgia Line Cardi B, Bad Bunny, J Balvin Zedd, Maren Morris, Grey Bruno Mars, Cardi B Khalid, Normani Lil Baby, Drake Marshmello, Anne-Marie G-Eazy Featuring A$AP Rocky, Cardi B 6ix9ine Featuring Nicki Minaj, Murda Beatz Migos, Nicki Minaj, Cardi B Offset, Metro Boomin The Weeknd, Kendrick Lamar G-Eazy, Halsey Kendrick Lamar, SZA YG Featuring 2 Chainz, Big Sean, Nicki Minaj Calvin Harris, Dua Lipa DJ Khaled Featuring Justin Bieber, Chance The Rapper, Quavo benny blanco, Halsey, Khalid Jay Rock, Kendrick Lamar, Future, James Blake Marshmello, Bastille Casper Magico, Nio Garcia, Darell, Nicky Jam, Ozuna, Bad Bunny N*E*R*D, Rihanna Logic Featuring Alessia Cara, Khalid Rae Sremmurd, Juicy J J Balvin, Willy William Featuring Beyonce'"
      ]
     },
     "execution_count": 140,
     "metadata": {},
     "output_type": "execute_result"
    }
   ],
   "source": [
    "duo_split_str"
   ]
  },
  {
   "cell_type": "code",
   "execution_count": 141,
   "metadata": {},
   "outputs": [
    {
     "data": {
      "text/plain": [
       "['Bebe Rexha ',\n",
       " ' Florida Georgia Line Cardi B, Bad Bunny ',\n",
       " ' J Balvin Zedd, Maren Morris ',\n",
       " ' Grey Bruno Mars ',\n",
       " ' Cardi B Khalid ',\n",
       " ' Normani Lil Baby ',\n",
       " ' Drake Marshmello ',\n",
       " ' Anne-Marie G-Eazy Featuring A$AP Rocky ',\n",
       " ' Cardi B 6ix9ine Featuring Nicki Minaj ',\n",
       " ' Murda Beatz Migos, Nicki Minaj ',\n",
       " ' Cardi B Offset ',\n",
       " ' Metro Boomin The Weeknd ',\n",
       " ' Kendrick Lamar G-Eazy ',\n",
       " ' Halsey Kendrick Lamar ',\n",
       " ' SZA YG Featuring 2 Chainz, Big Sean ',\n",
       " ' Nicki Minaj Calvin Harris ',\n",
       " ' Dua Lipa DJ Khaled Featuring Justin Bieber, Chance The Rapper ',\n",
       " ' Quavo benny blanco, Halsey ',\n",
       " ' Khalid Jay Rock, Kendrick Lamar, Future ',\n",
       " ' James Blake Marshmello ',\n",
       " ' Bastille Casper Magico, Nio Garcia, Darell, Nicky Jam, Ozuna ',\n",
       " ' Bad Bunny N*E*R*D ',\n",
       " ' Rihanna Logic Featuring Alessia Cara ',\n",
       " ' Khalid Rae Sremmurd ',\n",
       " ' Juicy J J Balvin ',\n",
       " ' Willy William Featuring Beyonce']"
      ]
     },
     "execution_count": 141,
     "metadata": {},
     "output_type": "execute_result"
    }
   ],
   "source": [
    "duo_str.split('&')"
   ]
  },
  {
   "cell_type": "code",
   "execution_count": 121,
   "metadata": {},
   "outputs": [
    {
     "data": {
      "text/plain": [
       "['Camila Cabello Featuring Young Thug',\n",
       " 'Post Malone Featuring 21 Savage',\n",
       " 'Post Malone Featuring Ty Dolla $ign',\n",
       " 'Maroon 5 Featuring Cardi B',\n",
       " 'BlocBoy JB Featuring Drake',\n",
       " 'Tyga Featuring Offset',\n",
       " 'G-Eazy Featuring A$AP Rocky & Cardi B',\n",
       " '6ix9ine Featuring Nicki Minaj & Murda Beatz',\n",
       " 'Migos Featuring Drake',\n",
       " 'Kendrick Lamar Featuring Zacari',\n",
       " 'Lil Dicky Featuring Chris Brown',\n",
       " 'Cardi B Featuring 21 Savage',\n",
       " 'YG Featuring 2 Chainz, Big Sean & Nicki Minaj',\n",
       " 'MAX Featuring gnash',\n",
       " 'Gucci Mane Featuring Migos',\n",
       " 'DJ Khaled Featuring Justin Bieber, Chance The Rapper & Quavo',\n",
       " 'A$AP Ferg Featuring Nicki Minaj',\n",
       " 'Miguel Featuring Travis Scott',\n",
       " 'Logic Featuring Alessia Cara & Khalid',\n",
       " 'Justin Timberlake Featuring Chris Stapleton',\n",
       " 'Maroon 5 Featuring SZA',\n",
       " 'J Balvin & Willy William Featuring Beyonce']"
      ]
     },
     "execution_count": 121,
     "metadata": {},
     "output_type": "execute_result"
    }
   ],
   "source": [
    "featuring = [f for f in artists if 'Featuring' in f]\n",
    "featuring"
   ]
  }
 ],
 "metadata": {
  "kernelspec": {
   "display_name": "Python 3",
   "language": "python",
   "name": "python3"
  },
  "language_info": {
   "codemirror_mode": {
    "name": "ipython",
    "version": 3
   },
   "file_extension": ".py",
   "mimetype": "text/x-python",
   "name": "python",
   "nbconvert_exporter": "python",
   "pygments_lexer": "ipython3",
   "version": "3.6.5"
  }
 },
 "nbformat": 4,
 "nbformat_minor": 2
}
